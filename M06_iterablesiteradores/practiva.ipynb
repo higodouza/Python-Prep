{
 "cells": [
  {
   "cell_type": "code",
   "execution_count": 4,
   "metadata": {},
   "outputs": [
    {
     "name": "stdout",
     "output_type": "stream",
     "text": [
      "a\n",
      "b\n",
      "c\n"
     ]
    }
   ],
   "source": [
    "mi_dict = {'a':1, 'b':2, 'c':3}\n",
    "for i in mi_dict:\n",
    "    print(i)"
   ]
  },
  {
   "cell_type": "code",
   "execution_count": 8,
   "metadata": {},
   "outputs": [
    {
     "name": "stdout",
     "output_type": "stream",
     "text": [
      "página1\n"
     ]
    }
   ],
   "source": [
    "libro = ['página1', 'página2', 'página3', 'página4']\n",
    "marcapaginas = iter(libro) \n",
    "print(next(marcapaginas))\n"
   ]
  },
  {
   "cell_type": "code",
   "execution_count": 12,
   "metadata": {},
   "outputs": [
    {
     "name": "stdout",
     "output_type": "stream",
     "text": [
      "(1, 'a')\n",
      "(2, 'b')\n",
      "(3, 'c')\n",
      "<zip object at 0x000002010BB85B00>\n"
     ]
    }
   ],
   "source": [
    "lista_1 = [1, 2, 3]\n",
    "lista_2 = ['a', 'b', 'c']\n",
    "combinacion = zip(lista_1, lista_2)\n",
    "for i in combinacion:\n",
    "    print(i)\n",
    "print(combinacion)"
   ]
  },
  {
   "cell_type": "code",
   "execution_count": 15,
   "metadata": {},
   "outputs": [
    {
     "name": "stdout",
     "output_type": "stream",
     "text": [
      "['h', 'o', 'l']\n"
     ]
    }
   ],
   "source": [
    "palabra=\"hola\"\n",
    "lista=[i for i in palabra if i!='a']\n",
    "print(lista)\n",
    "\n",
    "\n"
   ]
  },
  {
   "cell_type": "code",
   "execution_count": 17,
   "metadata": {},
   "outputs": [
    {
     "name": "stdout",
     "output_type": "stream",
     "text": [
      "[1]\n",
      "[3]\n",
      "[4]\n"
     ]
    }
   ],
   "source": [
    "mi_dict = [1,3,4]\n",
    "for i in mi_dict:\n",
    "    print([i])"
   ]
  },
  {
   "cell_type": "code",
   "execution_count": 18,
   "metadata": {},
   "outputs": [
    {
     "ename": "ValueError",
     "evalue": "4 is not in list",
     "output_type": "error",
     "traceback": [
      "\u001b[1;31m---------------------------------------------------------------------------\u001b[0m",
      "\u001b[1;31mValueError\u001b[0m                                Traceback (most recent call last)",
      "\u001b[1;32mc:\\Users\\hdmen\\Documentos\\Google Drive\\Documentos\\Personales\\Cursos\\Henry\\Python-Prep-Higo\\M06_iterablesiteradores\\practiva.ipynb Cell 6\u001b[0m line \u001b[0;36m4\n\u001b[0;32m      <a href='vscode-notebook-cell:/c%3A/Users/hdmen/Documentos/Google%20Drive/Documentos/Personales/Cursos/Henry/Python-Prep-Higo/M06_iterablesiteradores/practiva.ipynb#W5sZmlsZQ%3D%3D?line=0'>1</a>\u001b[0m lista2\u001b[39m=\u001b[39m[\u001b[39m1\u001b[39m,\u001b[39m2\u001b[39m,\u001b[39m5\u001b[39m,\u001b[39m7\u001b[39m,\u001b[39m8\u001b[39m,\u001b[39m10\u001b[39m,\u001b[39m13\u001b[39m,\u001b[39m14\u001b[39m,\u001b[39m15\u001b[39m,\u001b[39m17\u001b[39m,\u001b[39m20\u001b[39m]\n\u001b[0;32m      <a href='vscode-notebook-cell:/c%3A/Users/hdmen/Documentos/Google%20Drive/Documentos/Personales/Cursos/Henry/Python-Prep-Higo/M06_iterablesiteradores/practiva.ipynb#W5sZmlsZQ%3D%3D?line=2'>3</a>\u001b[0m \u001b[39mwhile\u001b[39;00m \u001b[39mlen\u001b[39m(lista2)\u001b[39m<\u001b[39m\u001b[39m=\u001b[39m\u001b[39m20\u001b[39m:\n\u001b[1;32m----> <a href='vscode-notebook-cell:/c%3A/Users/hdmen/Documentos/Google%20Drive/Documentos/Personales/Cursos/Henry/Python-Prep-Higo/M06_iterablesiteradores/practiva.ipynb#W5sZmlsZQ%3D%3D?line=3'>4</a>\u001b[0m     \u001b[39mif\u001b[39;00m i\u001b[39m-\u001b[39mlista2\u001b[39m.\u001b[39;49mindex(i)\u001b[39m==\u001b[39m\u001b[39m1\u001b[39m:\n\u001b[0;32m      <a href='vscode-notebook-cell:/c%3A/Users/hdmen/Documentos/Google%20Drive/Documentos/Personales/Cursos/Henry/Python-Prep-Higo/M06_iterablesiteradores/practiva.ipynb#W5sZmlsZQ%3D%3D?line=4'>5</a>\u001b[0m         lista2\u001b[39m.\u001b[39minsert(i\u001b[39m+\u001b[39m\u001b[39m1\u001b[39m,i\u001b[39m+\u001b[39m\u001b[39m1\u001b[39m)\n\u001b[0;32m      <a href='vscode-notebook-cell:/c%3A/Users/hdmen/Documentos/Google%20Drive/Documentos/Personales/Cursos/Henry/Python-Prep-Higo/M06_iterablesiteradores/practiva.ipynb#W5sZmlsZQ%3D%3D?line=5'>6</a>\u001b[0m         \u001b[39m#print(f\"bien {i}\")\u001b[39;00m\n\u001b[0;32m      <a href='vscode-notebook-cell:/c%3A/Users/hdmen/Documentos/Google%20Drive/Documentos/Personales/Cursos/Henry/Python-Prep-Higo/M06_iterablesiteradores/practiva.ipynb#W5sZmlsZQ%3D%3D?line=6'>7</a>\u001b[0m     \u001b[39melse\u001b[39;00m:\n",
      "\u001b[1;31mValueError\u001b[0m: 4 is not in list"
     ]
    }
   ],
   "source": [
    "lista2=[1,2,5,7,8,10,13,14,15,17,20]\n",
    "\n",
    "a=lista2[0]\n",
    "while len(lista2)<=20:\n",
    "    if i-a.index(i)==1:\n",
    "        lista2.insert(i+1,i+1)\n",
    "        #print(f\"bien {i}\")\n",
    "    else:\n",
    "        a=i\n",
    "        while a-lista2.index(i)!=1:\n",
    "            #print(f\"mla {a}\")\n",
    "            b=a-lista2.index(i)\n",
    "            if b in lista2:\n",
    "               break\n",
    "            lista2.insert(b+1, b+1)\n",
    "            a-=1\n",
    "        \n",
    "print(lista2)\n"
   ]
  },
  {
   "cell_type": "code",
   "execution_count": 1,
   "metadata": {},
   "outputs": [
    {
     "name": "stdout",
     "output_type": "stream",
     "text": [
      "encontre un N en la posicion 7\n",
      "encontre un N en la posicion 7\n",
      "encontre un N en la posicion 7\n",
      "encontre un N en la posicion 7\n",
      "encontre un N en la posicion 7\n",
      "[7, 7, 7, 7, 7]\n"
     ]
    }
   ],
   "source": [
    "cadena = 'Hola Mundo. Esto es una practica del lenguaje de programación Python'\n",
    "\n",
    "#posi= [cadena[i] for i in cadena if i==\"n\"]\n",
    "posiciones=[]\n",
    "for i in cadena:\n",
    "    if i == \"n\":\n",
    "        print(f\"encontre un N en la posicion {cadena.index(i)}\")\n",
    "        posiciones.append(cadena.find(\"n\"))\n",
    "        \n",
    "print(posiciones)"
   ]
  }
 ],
 "metadata": {
  "kernelspec": {
   "display_name": "Python 3",
   "language": "python",
   "name": "python3"
  },
  "language_info": {
   "codemirror_mode": {
    "name": "ipython",
    "version": 3
   },
   "file_extension": ".py",
   "mimetype": "text/x-python",
   "name": "python",
   "nbconvert_exporter": "python",
   "pygments_lexer": "ipython3",
   "version": "3.11.5"
  }
 },
 "nbformat": 4,
 "nbformat_minor": 2
}
