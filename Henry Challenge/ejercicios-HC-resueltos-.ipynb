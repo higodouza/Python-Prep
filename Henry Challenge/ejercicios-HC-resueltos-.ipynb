{
 "cells": [
  {
   "cell_type": "markdown",
   "metadata": {},
   "source": [
    "2. Ordenar diccionario\n",
    "Witec\n",
    "Escribe una función que ordene las listas almacenadas en un diccionario.\n",
    "El diccionario a ordenar contiene listas de valores del mismo tamaño y cuyos elementos enésimos están relacionados.\n",
    "La función debe devolver el diccionario con todas sus listas ordenadas según la clave especificada, manteniendo la relación entre los elementos enésimos.\n",
    "Recibe tres argumentos:\n",
    "- diccionario (diccionario): diccionario que contiene las listas a ordenar\n",
    "- Clave (string): la calve por la cual se deben ordenar las listas\n",
    "- ascendente (booleano); indica si el orden debe ser ascendente (True) o descendente (False). Su valor por\n",
    "defecto debe ser True.\n",
    "Si el parámetro clave no se encuentra dentro de las claves del diccionario, la función debe devolver None.\n",
    "Ejemplos\n",
    "Dado el diccionario\n",
    "dicc = {\n",
    "'clavei' : ['c', 'a','b'],\n",
    "'clave2' : ['casa', 'auto', 'barco'],\n",
    "'claves' : [1,2,3]\n",
    "}\n",
    "el resultado deberia ser\n",
    "\n",
    "ordenarDiccionario (dicc, 'clavei\")\n",
    "debe retornale\n",
    "{\"clavel' s['a', 'b', 'c'],\n",
    "\"clave?'; ['auto', \"barco', 'casa'],\n",
    "\"claves': [2,3,1]\n",
    "}\n"
   ]
  },
  {
   "cell_type": "code",
   "execution_count": 4,
   "metadata": {},
   "outputs": [
    {
     "name": "stdout",
     "output_type": "stream",
     "text": [
      "{'clavei': ['c', 'a', 'b'], 'clave2': ['casa', 'auto', 'barco'], 'claves': [1, 2, 3]}\n"
     ]
    }
   ],
   "source": [
    "def ordenarDiccionario(diccionario, clave, ascendente=True):\n",
    "    \"\"\"\n",
    "    Ordena las listas en un diccionario según la clave especificada.\n",
    "\n",
    "    Args:\n",
    "        diccionario (dict): Diccionario que contiene las listas a ordenar.\n",
    "        clave (str): Clave por la cual se deben ordenar las listas.\n",
    "        ascendente (bool, optional): Indica si el orden debe ser ascendente (True) o descendente (False).\n",
    "            Por defecto, es True.\n",
    "\n",
    "    Returns:\n",
    "        dict or None: Diccionario con las listas ordenadas según la clave especificada,\n",
    "                      o None si la clave no se encuentra en el diccionario.\n",
    "    \"\"\"\n",
    "    # Verificar si la clave existe en el diccionario\n",
    "    if clave not in diccionario:\n",
    "        return None\n",
    "\n",
    "    # Obtener la lista correspondiente a la clave\n",
    "    lista = diccionario[clave]\n",
    "\n",
    "    # Ordenar la lista según el orden especificado\n",
    "    sorted_lista = sorted(lista, reverse=(not ascendente))\n",
    "\n",
    "    # Actualizar la lista en el diccionario\n",
    "    diccionario[clave] = sorted_lista\n",
    "\n",
    "    # Reordenar las demás listas manteniendo la relación entre los elementos enésimos\n",
    "    for key in diccionario:\n",
    "        if key != clave:\n",
    "            diccionario[key] = [x for _, x in sorted(zip(lista, diccionario[key]), key=lambda pair: pair[0], reverse=(not ascendente))]\n",
    "\n",
    "    return diccionario\n",
    "\n",
    "# Ejemplo de uso\n",
    "dicc = {\n",
    "    'clavei': ['c', 'a', 'b'],\n",
    "    'clave2': ['casa', 'auto', 'barco'],\n",
    "    'claves': [1, 2, 3]\n",
    "}\n",
    "\n",
    "resultado = ordenarDiccionario(dicc, 'claves', ascendente=True)\n",
    "print(resultado)\n"
   ]
  },
  {
   "cell_type": "markdown",
   "metadata": {},
   "source": [
    "3- ordenar palabras\n",
    "La función ordenarPalabras recibe como argumento una secuencia de palabras unidas por guiones, y debe retornar las mismas palabras, unidas por guiones, pero en orden alfabético.\n",
    "Si el argumento que recibe no contiene guiones, la función debe retornar None.\n",
    "Ejemplo\n",
    "ordenar Palabras (\"henry-casa-cuando-auto-sueño\")\n",
    "deberia retornar:\n",
    "auto-casa-cuando-henry-sueño\n",
    "Descripcion de la funcion ordenarPalabras\n",
    "Debe retornar un string.\n",
    "Recibe como parámetro:\n",
    "• palabras. string\n",
    "Aclaraciones\n",
    "• Los tests son case sensitive - es decir, reconocen diferencias entre mayúsculas y minúsculas. Asegurate de respetar la sintaxis exactamente"
   ]
  },
  {
   "cell_type": "code",
   "execution_count": 5,
   "metadata": {},
   "outputs": [
    {
     "name": "stdout",
     "output_type": "stream",
     "text": [
      "auto-casa-cuando-henry-sueño\n"
     ]
    }
   ],
   "source": [
    "def ordenarPalabras(palabras):\n",
    "    # Verificar si hay guiones en la secuencia de palabras\n",
    "    if '-' not in palabras:\n",
    "        return None\n",
    "\n",
    "    # Dividir las palabras usando los guiones y ordenarlas alfabéticamente\n",
    "    palabras_ordenadas = sorted(palabras.split('-'))\n",
    "\n",
    "    # Unir las palabras ordenadas con guiones\n",
    "    return '-'.join(palabras_ordenadas)\n",
    "\n",
    "# Ejemplo de uso\n",
    "secuencia_palabras = \"henry-casa-cuando-auto-sueño\"\n",
    "resultado = ordenarPalabras(secuencia_palabras)\n",
    "print(resultado)"
   ]
  },
  {
   "cell_type": "markdown",
   "metadata": {},
   "source": [
    "4- numero binario\n",
    "\n",
    "Escribe una función numeroBinario que reciba como argumento un número entero mayor o igual a cero y lo devuelva en su representación binaria.\n",
    "Debe recibir y devolver un valor de tipo entero.\n",
    "Recibe un argumento:\n",
    "numero: Será el número que se convertirá a binario.\n",
    "Ejemplo\n",
    "numeroBinario (12)\n",
    "deberia retornar:\n",
    "1100\n",
    "Descripción de la función\n",
    "La función numeroBinario debe retornar un numero entero o nulo.\n",
    "La función numeroBinario recibe como parámetro:\n",
    "• numero, un número.\n",
    "Aclaraciones\n",
    "En caso de que el parámetro no sea un número entero, y/o sea mayor a -1, la función debe retornar un valor nulo (None)."
   ]
  },
  {
   "cell_type": "code",
   "execution_count": 6,
   "metadata": {},
   "outputs": [
    {
     "name": "stdout",
     "output_type": "stream",
     "text": [
      "1100\n"
     ]
    }
   ],
   "source": [
    "def numeroBinario(numero):\n",
    "    # Verificar si el número es un entero y es mayor o igual a cero\n",
    "    if not isinstance(numero, int) or numero < 0:\n",
    "        return None\n",
    "\n",
    "    # Convertir el número a su representación binaria y retornar como entero\n",
    "    return bin(numero)[2:]\n",
    "\n",
    "# Ejemplo de uso\n",
    "ejemplo_numero = 12\n",
    "resultado = numeroBinario(ejemplo_numero)\n",
    "print(resultado)  # Salida: 1100\n"
   ]
  },
  {
   "cell_type": "markdown",
   "metadata": {},
   "source": [
    "5- numero primo\n",
    "\n",
    "Escribe una función que reciba un número primo por parámetro y retorne el número primo siguiente. En caso de que el parámetro no sea un número primo, debe retornar None.\n",
    "Ejemplo\n",
    "proximoPrimo (7)\n",
    "debería imprimir:\n",
    "11\n",
    "Descripción de la función proximoPrimo\n",
    "Debe retornar un número entero, o None.\n",
    "Recibe como parámetro:\n",
    "• num (int)\n",
    "Aclaraciones\n",
    "• Todo lo que imprimas con print() se verá en el recuadro \"Debug Output\"\n",
    "cuando corras tu código (al hacer click en \"Run code\".\n",
    "• Si el número recibido por parámetro no es primo, la función debe retornar None."
   ]
  },
  {
   "cell_type": "code",
   "execution_count": 7,
   "metadata": {},
   "outputs": [
    {
     "name": "stdout",
     "output_type": "stream",
     "text": [
      "5\n"
     ]
    }
   ],
   "source": [
    "def proximoPrimo(num):\n",
    "    \"\"\"\n",
    "    Retorna el número primo siguiente al número dado.\n",
    "\n",
    "    Args:\n",
    "        num (int): Número entero que se utilizará para encontrar el siguiente número primo.\n",
    "\n",
    "    Returns:\n",
    "        int or None: El siguiente número primo si el número dado es primo, None si no es primo.\n",
    "    \"\"\"\n",
    "    # Función para verificar si un número es primo\n",
    "    def es_primo(n):\n",
    "        if n < 2:\n",
    "            return False\n",
    "        for i in range(2, int(n ** 0.5) + 1):\n",
    "            if n % i == 0:\n",
    "                return False\n",
    "        return True\n",
    "\n",
    "    # Verificar si el número es primo\n",
    "    if not es_primo(num):\n",
    "        return None\n",
    "\n",
    "    # Encontrar el siguiente número primo\n",
    "    siguiente_primo = num + 1\n",
    "    while not es_primo(siguiente_primo):\n",
    "        siguiente_primo += 1\n",
    "\n",
    "    return siguiente_primo\n",
    "\n",
    "# Ejemplo de uso\n",
    "numero_primo = 7\n",
    "resultado = proximoPrimo(numero_primo)\n",
    "print(resultado)  # Salida: 11\n"
   ]
  },
  {
   "cell_type": "markdown",
   "metadata": {},
   "source": [
    "6- lista de listas\n",
    "Escriba una función que reciba una lista con listas anidadas y la retorne aplanada.\n",
    "La función listaDeListas recibe por parámetro una lista donde cada elemento puede ser un entero o bien una lista de enteros; a partir de estos datos, debe retornar todos esos elementos juntos en una lista única.\n",
    "Ejemplo\n",
    "listaDeListas ([[1,2, [3]], [4]])\n",
    "La debería retornar:\n",
    "[1,2,3,4]\n",
    "6\n",
    "Descripción de la función listaDeListas\n",
    "Debe retornar una lista de enteros.\n",
    "Recibe como parámetro:\n",
    "• lista (list): donde cada elemento puede ser un entero o una lista de enteros.\n",
    "8"
   ]
  },
  {
   "cell_type": "code",
   "execution_count": null,
   "metadata": {},
   "outputs": [],
   "source": [
    "def listaDeListas(lista):\n",
    "  \"\"\"\n",
    "  Recibe una lista con listas anidadas y la retorna aplanada.\n",
    "\n",
    "  Args:\n",
    "    lista (list): donde cada elemento puede ser un entero o una lista de enteros.\n",
    "\n",
    "  Returns:\n",
    "    Una lista de enteros con todos los elementos de la lista recibida, aplanados.\n",
    "  \"\"\"\n",
    "\n",
    "  if not isinstance(lista, list):\n",
    "    return None\n",
    "\n",
    "  lista_aplanada = []\n",
    "  for elemento in lista:\n",
    "    if isinstance(elemento, int):\n",
    "      lista_aplanada.append(elemento)\n",
    "    else:\n",
    "      lista_aplanada += listaDeListas(elemento)\n",
    "\n",
    "  return lista_aplanada\n"
   ]
  },
  {
   "cell_type": "markdown",
   "metadata": {},
   "source": [
    "7 - lista repetidos\n",
    "\n",
    "Escribe una función \"lista Repetidos\" que, a partir de una lista de números, indique cuántas veces se repite cada uno.\n",
    "La función recibe como argumento una lista de números y debe retornar una lista de tuplas, donde cada tupla contene un valor de la lista y las veces que éste aparece en la lista original.\n",
    "Ejemplo\n",
    "ListaRepetidos ([2,1,2,13, 13,14])\n",
    "debería retornar:\n",
    "[(2,2), (1,1), (13,2), (14,1)]\n",
    "8\n",
    "Descripción de la función\n",
    "La función listaRepetidos retorna una lista de tuplas, donde cada tupla contiene dos números:\n",
    "• el primero (int) es un valor de la lista original,\n",
    "• el segundo (int), las veces que éste aparece en la lista original.\n",
    "La función lIstaRepetidos recibe como parámetro:\n",
    "• lista (list)\n",
    "Aclaraciones\n",
    "• Debe respetarse el orden original en el que aparecen los elementos en la lista."
   ]
  },
  {
   "cell_type": "code",
   "execution_count": null,
   "metadata": {},
   "outputs": [],
   "source": [
    "def listaRepetidos(lista):\n",
    "  \"\"\"\n",
    "  Recibe una lista de números e indica cuántas veces se repite cada uno.\n",
    "\n",
    "  Args:\n",
    "    lista (list): de números.\n",
    "\n",
    "  Returns:\n",
    "    Una lista de tuplas, donde cada tupla contiene dos números:\n",
    "      el primero (int) es un valor de la lista original,\n",
    "      el segundo (int), las veces que éste aparece en la lista original.\n",
    "  \"\"\"\n",
    "\n",
    "  diccionario = {}\n",
    "  for numero in lista:\n",
    "    if numero not in diccionario:\n",
    "      diccionario[numero] = 1\n",
    "    else:\n",
    "      diccionario[numero] += 1\n",
    "\n",
    "  lista_repetidos = []\n",
    "  for numero, veces in diccionario.items():\n",
    "    lista_repetidos.append((numero, veces))\n",
    "\n",
    "  return lista_repetidos\n"
   ]
  },
  {
   "cell_type": "markdown",
   "metadata": {},
   "source": [
    "8 - derivada y funciones 2\n",
    "\n",
    "Dada la siguiente función:\n",
    "F(x)=-x^2 + 1 para x >=-1\n",
    "F(x) = -3^x -3 para x<-1\n",
    "seleccionar las respuestas correctas:\n",
    "Pick ONE OR MORE options\n",
    "Es continua en xeo\n",
    "La derivada en x=1 es igual a -2.\n",
    "La derivada en x=-1 es igual a -2.\n",
    "Es posible que un punto sea un minimo y no sea derivable\n",
    "\n",
    "yo \n",
    "\n",
    "La derivada en x=1 es igual a -2.\n",
    "La derivada en x=-1 es igual a -2."
   ]
  },
  {
   "cell_type": "code",
   "execution_count": 10,
   "metadata": {},
   "outputs": [
    {
     "data": {
      "image/png": "[encoded data removed]",
      "text/plain": [
       "<Figure size 1000x500 with 1 Axes>"
      ]
     },
     "metadata": {},
     "output_type": "display_data"
    }
   ],
   "source": [
    "import numpy as np\n",
    "import matplotlib.pyplot as plt\n",
    "\n",
    "# Definición de la función para x >= -1\n",
    "def f1(x):\n",
    "    return -x**2+1\n",
    "\n",
    "# Definición de la función para x < -1\n",
    "def f2(x):\n",
    "    return -3**x-3\n",
    "\n",
    "# Rango de valores de x para cada parte de la función\n",
    "x1 = np.linspace(-1, 3, 400)  # Para x >= -1\n",
    "x2 = np.linspace(-5, -1, 400)  # Para x < -1\n",
    "\n",
    "# Calcular los valores de y para cada parte de la función\n",
    "y1 = f1(x1)\n",
    "y2 = f2(x2)\n",
    "\n",
    "# Graficar ambas partes en el mismo gráfico\n",
    "plt.figure(figsize=(10, 5))\n",
    "\n",
    "plt.plot(x1, y1, label='F(x) = -x**2+1', color='blue')\n",
    "plt.plot(x2, y2, label='F(x) = -3**x-3', color='red')\n",
    "\n",
    "plt.xlabel('x')\n",
    "plt.ylabel('F(x)')\n",
    "plt.title('Gráfico de la función F(x)')\n",
    "plt.legend()\n",
    "\n",
    "plt.grid(True)\n",
    "plt.show()\n"
   ]
  },
  {
   "cell_type": "markdown",
   "metadata": {},
   "source": [
    "9- funciopn y dereivada V"
   ]
  },
  {
   "cell_type": "code",
   "execution_count": 8,
   "metadata": {},
   "outputs": [
    {
     "data": {
      "image/png": "[encoded data removed]",
      "text/plain": [
       "<Figure size 1000x500 with 1 Axes>"
      ]
     },
     "metadata": {},
     "output_type": "display_data"
    }
   ],
   "source": [
    "import numpy as np\n",
    "import matplotlib.pyplot as plt\n",
    "\n",
    "# Definición de la función para x >= 0\n",
    "def f1(x):\n",
    "    return x**2\n",
    "\n",
    "# Definición de la función para x < 0\n",
    "def f2(x):\n",
    "    return -x\n",
    "\n",
    "# Rango de valores de x para cada parte de la función\n",
    "x1 = np.linspace(0, 3, 400)  # Para x >= 0\n",
    "x2 = np.linspace(-5, 0, 400)  # Para x < 0\n",
    "\n",
    "# Calcular los valores de y para cada parte de la función\n",
    "y1 = f1(x1)\n",
    "y2 = f2(x2)\n",
    "\n",
    "# Graficar ambas partes en el mismo gráfico\n",
    "plt.figure(figsize=(10, 5))\n",
    "\n",
    "plt.plot(x1, y1, label='F(x) = x^2', color='blue')\n",
    "plt.plot(x2, y2, label='F(x) = -x', color='red')\n",
    "\n",
    "plt.xlabel('x')\n",
    "plt.ylabel('F(x)')\n",
    "plt.title('Gráfico de la función F(x)')\n",
    "plt.legend()\n",
    "\n",
    "plt.grid(True)\n",
    "plt.show()\n"
   ]
  }
 ],
 "metadata": {
  "kernelspec": {
   "display_name": "Python 3",
   "language": "python",
   "name": "python3"
  },
  "language_info": {
   "codemirror_mode": {
    "name": "ipython",
    "version": 3
   },
   "file_extension": ".py",
   "mimetype": "text/x-python",
   "name": "python",
   "nbconvert_exporter": "python",
   "pygments_lexer": "ipython3",
   "version": "3.11.5"
  }
 },
 "nbformat": 4,
 "nbformat_minor": 2
}
