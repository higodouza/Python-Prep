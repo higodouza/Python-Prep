{
 "cells": [
  {
   "cell_type": "code",
   "execution_count": 7,
   "metadata": {},
   "outputs": [],
   "source": [
    "def Factorial(numero):\n",
    "    '''\n",
    "    Esta función devuelve el factorial del número pasado como parámetro.\n",
    "    En caso de que no sea de tipo entero y/o sea menor que 1, debe retornar nulo.\n",
    "    Recibe un argumento:\n",
    "        numero: Será el número con el que se calcule el factorial\n",
    "    Ej:\n",
    "        Factorial(4) debe retornar 24\n",
    "        Factorial(-2) debe retornar nulo\n",
    "    '''\n",
    "    #Tu código aca:\n",
    "    \n",
    "    if type(numero)==float or numero<0:\n",
    "        return None\n",
    "    elif numero==0:\n",
    "        return 1\n",
    "    else:\n",
    "        numero = numero * Factorial(numero - 1)    \n",
    "    return numero\n",
    "\n",
    "Factorial(2.1)"
   ]
  },
  {
   "cell_type": "code",
   "execution_count": 26,
   "metadata": {},
   "outputs": [
    {
     "name": "stdout",
     "output_type": "stream",
     "text": [
      "None\n"
     ]
    }
   ],
   "source": [
    "def EsPrimo(valor):\n",
    "    '''\n",
    "    Esta función devuelve el valor booleano True si el número reibido como parámetro es primo, de lo \n",
    "    contrario devuelve False..\n",
    "    En caso de que el parámetro no sea de tipo entero debe retornar nulo.\n",
    "    Recibe un argumento:\n",
    "        valor: Será el número a evaluar\n",
    "    Ej:\n",
    "        EsPrimo(7) debe retornar True\n",
    "        EsPrimo(8) debe retornar False\n",
    "    '''\n",
    "    #Tu código aca:\n",
    "    \n",
    "    primo=True\n",
    "    if type(valor)!=int:\n",
    "        return print(None)\n",
    "    else:\n",
    "        for i in range(2,valor):\n",
    "            if valor%i==0:\n",
    "                primo=False\n",
    "                break\n",
    "        if primo:\n",
    "            primo=True       \n",
    "    return primo\n",
    "EsPrimo(-1.2)"
   ]
  },
  {
   "cell_type": "code",
   "execution_count": 43,
   "metadata": {},
   "outputs": [
    {
     "data": {
      "text/plain": [
       "2"
      ]
     },
     "execution_count": 43,
     "metadata": {},
     "output_type": "execute_result"
    }
   ],
   "source": [
    "def ClaseAnimal(especie, color):\n",
    "    '''\n",
    "    Esta función devuelve un objeto instanciado de la clase Animal, \n",
    "    la cual debe tener los siguientes atributos:\n",
    "        Edad    (Un valor de tipo de dato entero, que debe inicializarse en cero)\n",
    "        Especie (Un valor de tipo de dato string)\n",
    "        Color   (Un valor de tipo de dato string)\n",
    "    y debe tener el siguiente método:\n",
    "        CumplirAnios  (este método debe sumar uno al atributo Edad y debe devolver ese valor)\n",
    "    Recibe dos argumento:\n",
    "        especie: Dato que se asignará al atributo Especie del objeto de la clase Animal\n",
    "        color: Dato que se asignará al atributo Color del objeto de la clase Animal\n",
    "    Ej:\n",
    "        a = ClaseAnimal('perro','blanco')\n",
    "        a.CumpliAnios() -> debe devolver 1\n",
    "        a.CumpliAnios() -> debe devolver 2\n",
    "        a.CumpliAnios() -> debe devolver 3\n",
    "    '''\n",
    "    #Tu código aca:\n",
    "    class Animal:\n",
    "        def __init__(self, especie, color):\n",
    "            self.edad =0 \n",
    "            self.especie = especie\n",
    "            self.color= color\n",
    "        def CumplirAnios(self):\n",
    "            self.edad+=1\n",
    "            return self.edad\n",
    "        \n",
    "    perrito=Animal(especie, color)\n",
    "    \n",
    "    return perrito\n",
    "\n",
    "a=ClaseAnimal(\"perro\",\"rojo\")\n",
    "a.CumplirAnios()\n",
    "a.color\n",
    "a.CumplirAnios()\n",
    "a.edad"
   ]
  },
  {
   "cell_type": "code",
   "execution_count": 64,
   "metadata": {},
   "outputs": [
    {
     "ename": "TypeError",
     "evalue": "unsupported operand type(s) for *: 'int' and 'NoneType'",
     "output_type": "error",
     "traceback": [
      "\u001b[1;31m---------------------------------------------------------------------------\u001b[0m",
      "\u001b[1;31mTypeError\u001b[0m                                 Traceback (most recent call last)",
      "\u001b[1;32mc:\\Users\\hdmen\\Documentos\\Google Drive\\Documentos\\Personales\\Cursos\\Henry\\Python-Prep-Higo\\Simulación Challenge\\borrador_checkpoint.ipynb Cell 4\u001b[0m line \u001b[0;36m1\n\u001b[0;32m     <a href='vscode-notebook-cell:/c%3A/Users/hdmen/Documentos/Google%20Drive/Documentos/Personales/Cursos/Henry/Python-Prep-Higo/Simulaci%C3%B3n%20Challenge/borrador_checkpoint.ipynb#W3sZmlsZQ%3D%3D?line=15'>16</a>\u001b[0m         numero \u001b[39m=\u001b[39m numero \u001b[39m*\u001b[39m Factorial(numero \u001b[39m-\u001b[39m \u001b[39m1\u001b[39m)    \n\u001b[0;32m     <a href='vscode-notebook-cell:/c%3A/Users/hdmen/Documentos/Google%20Drive/Documentos/Personales/Cursos/Henry/Python-Prep-Higo/Simulaci%C3%B3n%20Challenge/borrador_checkpoint.ipynb#W3sZmlsZQ%3D%3D?line=16'>17</a>\u001b[0m     \u001b[39mreturn\u001b[39;00m numero\n\u001b[1;32m---> <a href='vscode-notebook-cell:/c%3A/Users/hdmen/Documentos/Google%20Drive/Documentos/Personales/Cursos/Henry/Python-Prep-Higo/Simulaci%C3%B3n%20Challenge/borrador_checkpoint.ipynb#W3sZmlsZQ%3D%3D?line=18'>19</a>\u001b[0m Factorial(\u001b[39m2\u001b[39;49m)\n",
      "\u001b[1;32mc:\\Users\\hdmen\\Documentos\\Google Drive\\Documentos\\Personales\\Cursos\\Henry\\Python-Prep-Higo\\Simulación Challenge\\borrador_checkpoint.ipynb Cell 4\u001b[0m line \u001b[0;36m1\n\u001b[0;32m     <a href='vscode-notebook-cell:/c%3A/Users/hdmen/Documentos/Google%20Drive/Documentos/Personales/Cursos/Henry/Python-Prep-Higo/Simulaci%C3%B3n%20Challenge/borrador_checkpoint.ipynb#W3sZmlsZQ%3D%3D?line=13'>14</a>\u001b[0m     \u001b[39mreturn\u001b[39;00m \u001b[39mNone\u001b[39;00m\n\u001b[0;32m     <a href='vscode-notebook-cell:/c%3A/Users/hdmen/Documentos/Google%20Drive/Documentos/Personales/Cursos/Henry/Python-Prep-Higo/Simulaci%C3%B3n%20Challenge/borrador_checkpoint.ipynb#W3sZmlsZQ%3D%3D?line=14'>15</a>\u001b[0m \u001b[39melse\u001b[39;00m:\n\u001b[1;32m---> <a href='vscode-notebook-cell:/c%3A/Users/hdmen/Documentos/Google%20Drive/Documentos/Personales/Cursos/Henry/Python-Prep-Higo/Simulaci%C3%B3n%20Challenge/borrador_checkpoint.ipynb#W3sZmlsZQ%3D%3D?line=15'>16</a>\u001b[0m     numero \u001b[39m=\u001b[39m numero \u001b[39m*\u001b[39m Factorial(numero \u001b[39m-\u001b[39;49m \u001b[39m1\u001b[39;49m)    \n\u001b[0;32m     <a href='vscode-notebook-cell:/c%3A/Users/hdmen/Documentos/Google%20Drive/Documentos/Personales/Cursos/Henry/Python-Prep-Higo/Simulaci%C3%B3n%20Challenge/borrador_checkpoint.ipynb#W3sZmlsZQ%3D%3D?line=16'>17</a>\u001b[0m \u001b[39mreturn\u001b[39;00m numero\n",
      "\u001b[1;32mc:\\Users\\hdmen\\Documentos\\Google Drive\\Documentos\\Personales\\Cursos\\Henry\\Python-Prep-Higo\\Simulación Challenge\\borrador_checkpoint.ipynb Cell 4\u001b[0m line \u001b[0;36m1\n\u001b[0;32m     <a href='vscode-notebook-cell:/c%3A/Users/hdmen/Documentos/Google%20Drive/Documentos/Personales/Cursos/Henry/Python-Prep-Higo/Simulaci%C3%B3n%20Challenge/borrador_checkpoint.ipynb#W3sZmlsZQ%3D%3D?line=13'>14</a>\u001b[0m     \u001b[39mreturn\u001b[39;00m \u001b[39mNone\u001b[39;00m\n\u001b[0;32m     <a href='vscode-notebook-cell:/c%3A/Users/hdmen/Documentos/Google%20Drive/Documentos/Personales/Cursos/Henry/Python-Prep-Higo/Simulaci%C3%B3n%20Challenge/borrador_checkpoint.ipynb#W3sZmlsZQ%3D%3D?line=14'>15</a>\u001b[0m \u001b[39melse\u001b[39;00m:\n\u001b[1;32m---> <a href='vscode-notebook-cell:/c%3A/Users/hdmen/Documentos/Google%20Drive/Documentos/Personales/Cursos/Henry/Python-Prep-Higo/Simulaci%C3%B3n%20Challenge/borrador_checkpoint.ipynb#W3sZmlsZQ%3D%3D?line=15'>16</a>\u001b[0m     numero \u001b[39m=\u001b[39m numero \u001b[39m*\u001b[39;49m Factorial(numero \u001b[39m-\u001b[39;49m \u001b[39m1\u001b[39;49m)    \n\u001b[0;32m     <a href='vscode-notebook-cell:/c%3A/Users/hdmen/Documentos/Google%20Drive/Documentos/Personales/Cursos/Henry/Python-Prep-Higo/Simulaci%C3%B3n%20Challenge/borrador_checkpoint.ipynb#W3sZmlsZQ%3D%3D?line=16'>17</a>\u001b[0m \u001b[39mreturn\u001b[39;00m numero\n",
      "\u001b[1;31mTypeError\u001b[0m: unsupported operand type(s) for *: 'int' and 'NoneType'"
     ]
    }
   ],
   "source": [
    "def Factorial(numero):\n",
    "    '''\n",
    "    Esta función devuelve el factorial del número pasado como parámetro.\n",
    "    En caso de que no sea de tipo entero y/o sea menor que 1, debe retornar nulo.\n",
    "    Recibe un argumento:\n",
    "        numero: Será el número con el que se calcule el factorial\n",
    "    Ej:\n",
    "        Factorial(4) debe retornar 24\n",
    "        Factorial(-2) debe retornar nulo\n",
    "    '''\n",
    "    #Tu código aca:\n",
    "    \n",
    "    if type(numero)!=int or numero<1:\n",
    "        return None\n",
    "    else:\n",
    "        numero = numero * Factorial(numero - 1)    \n",
    "    return numero\n",
    "\n",
    "Factorial(2)"
   ]
  },
  {
   "cell_type": "code",
   "execution_count": 62,
   "metadata": {},
   "outputs": [
    {
     "name": "stdout",
     "output_type": "stream",
     "text": [
      "1\n",
      "El numero debe ser pisitivo\n",
      "El numero debe ser un entero\n",
      "El numero debe ser un entero\n"
     ]
    }
   ],
   "source": [
    "def factorial(numero):\n",
    "    if(type(numero) != int):\n",
    "        return 'El numero debe ser un entero'\n",
    "    if(numero < 0):\n",
    "        return 'El numero debe ser pisitivo'\n",
    "    if (numero > 1):\n",
    "        numero = numero * factorial(numero - 1)\n",
    "    return numero\n",
    "print(factorial(1))\n",
    "print(factorial(-2))\n",
    "print(factorial(1.23))\n",
    "print(factorial('6'))\n"
   ]
  },
  {
   "cell_type": "code",
   "execution_count": 65,
   "metadata": {},
   "outputs": [
    {
     "data": {
      "text/plain": [
       "0"
      ]
     },
     "execution_count": 65,
     "metadata": {},
     "output_type": "execute_result"
    }
   ],
   "source": [
    "def Factorial(numero):\n",
    "    '''\n",
    "    Esta función devuelve el factorial del número pasado como parámetro.\n",
    "    En caso de que no sea de tipo entero y/o sea menor que 1, debe retornar nulo.\n",
    "    Recibe un argumento:\n",
    "        numero: Será el número con el que se calcule el factorial\n",
    "    Ej:\n",
    "        Factorial(4) debe retornar 24\n",
    "        Factorial(-2) debe retornar nulo\n",
    "    '''\n",
    "    #Tu código aca:\n",
    "    \n",
    "    if type(numero)!=int :\n",
    "        return None\n",
    "    if numero<1:\n",
    "        return None\n",
    "    if numero>1:\n",
    "        numero = numero * Factorial(numero - 1)    \n",
    "    return numero\n",
    "Factorial(0)"
   ]
  }
 ],
 "metadata": {
  "kernelspec": {
   "display_name": "Python 3",
   "language": "python",
   "name": "python3"
  },
  "language_info": {
   "codemirror_mode": {
    "name": "ipython",
    "version": 3
   },
   "file_extension": ".py",
   "mimetype": "text/x-python",
   "name": "python",
   "nbconvert_exporter": "python",
   "pygments_lexer": "ipython3",
   "version": "3.11.5"
  }
 },
 "nbformat": 4,
 "nbformat_minor": 2
}
