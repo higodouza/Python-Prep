{
 "cells": [
  {
   "attachments": {},
   "cell_type": "markdown",
   "metadata": {},
   "source": [
    "## Manejo de errores"
   ]
  },
  {
   "attachments": {},
   "cell_type": "markdown",
   "metadata": {},
   "source": [
    "1) Con la clase creada en el módulo 7, tener en cuenta diferentes casos en que el código pudiera arrojar error. Por ejemplo, en la creación del objeto recibimos una lista de números enteros pero ¿qué pasa si se envía otro tipo de dato?"
   ]
  },
  {
   "cell_type": "code",
   "execution_count": 11,
   "metadata": {},
   "outputs": [
    {
     "name": "stdout",
     "output_type": "stream",
     "text": [
      "--- ejercicio 1 es numeros primos en una lista ---\n",
      "\n",
      "La lista resultante de los num primos de num_lista es: \n",
      "[1, 2, 3, 5, 3, 5, 7, 11, 13, 17, 1, 19, 23, 29, 31, 37, 41, 43, 47, 53, 59]\n",
      "\n",
      "\n",
      "--- ejercicio 2 es valor modal en una lista, es que mas se repite y cuantas veces ---\n",
      "\n",
      "El numero que mas se repite es: 1, 2 veces\n",
      "\n",
      "\n",
      "--- ejercicio 3 convertidor de temp CEL, KEL, FAR ---\n",
      "\n",
      "235 kel son -36.66999999999996 far\n",
      "\n",
      "\n",
      "--- ejercicio 4 el factorial de un numero ---\n"
     ]
    },
    {
     "data": {
      "text/plain": [
       "3628800"
      ]
     },
     "execution_count": 11,
     "metadata": {},
     "output_type": "execute_result"
    }
   ],
   "source": [
    "class modulo8:\n",
    "    \n",
    "    #### metodo contructor\n",
    "    def __init__ (self): \n",
    "        pass\n",
    "    \n",
    "    ### metodo para verificar que cada numero es o no primo\n",
    "    def es_primo(self,numero):\n",
    "        primo=True\n",
    "        if numero == 0 or numero == 1 or numero == 2:\n",
    "            pass\n",
    "        else:\n",
    "            for i in range(2,numero):\n",
    "                if numero%i==0:\n",
    "                    primo=False\n",
    "                    break\n",
    "            if primo:\n",
    "                primo=True       \n",
    "        return primo\n",
    "    # metodo para ir recorriendo la lista y llamando a \n",
    "    # es_primo para hacer la comprobacion numero a numero\n",
    "    \n",
    "    def verificar_primo(self,lista):\n",
    "        self.lista = lista\n",
    "        resul=[]\n",
    "        for i in lista:\n",
    "            try:\n",
    "                if self.es_primo(i):            \n",
    "                    resul.append(i)\n",
    "            except:\n",
    "                print(f\"Colocaste un dato erroreo, los elementos de la lista deben ser todos enteros y positivos\")\n",
    "        print(f\"La lista resultante de los num primos de num_lista es: \\n{resul}\\n\")\n",
    "\n",
    "    ## metodo para ubicar el numero que se repite mas en una lista, viendo cuantas veces \n",
    "    ## se repite y mostrando ambos datos\n",
    "    def valor_modal(self,lista):\n",
    "        self.lista = lista\n",
    "        a=0\n",
    "        b=0\n",
    "        for i in lista:\n",
    "            for j in lista:\n",
    "                if i==j:\n",
    "                    a+=1\n",
    "            if a>b:\n",
    "                numero_mas_repe=i\n",
    "                numero_de_repe=a\n",
    "                b=a\n",
    "            a=0\n",
    "        print(f'El numero que mas se repite es: {numero_mas_repe}, {numero_de_repe} veces\\n')\n",
    "\n",
    "    ## metodo calculadora convertidor entre grados, kel, cel, far\n",
    "    def convertidor_temp(self,temp, medida_origen, medida_destino):\n",
    "        self.temp=temp\n",
    "        self.medida_origen =medida_origen\n",
    "        self.medida_destino = medida_destino\n",
    "        \n",
    "        cel_to_far = lambda cel: (cel*9/5)+32\n",
    "        cel_to_kel = lambda cel: cel+273.15\n",
    "        far_to_cel = lambda far: (far-32)*5/9\n",
    "        far_to_kel = lambda far: (far-32)*5/9 + 273.15\n",
    "        kel_to_cel = lambda kel: kel-273.15\n",
    "        kel_to_far = lambda kel: ((kel-273.15)*9/5) + 32\n",
    "        if self.medida_origen==\"cel\" and self.medida_destino==\"far\":\n",
    "            print(f'{temp} {self.medida_origen} son {cel_to_far(temp)} {self.medida_destino}\\n') \n",
    "        if self.medida_origen==\"cel\" and self.medida_destino==\"kel\":\n",
    "            print(f'{temp} {self.medida_origen} son {cel_to_kel(temp)} {self.medida_destino}\\n') \n",
    "        if self.medida_origen==\"far\" and self.medida_destino==\"cel\":\n",
    "            print(f'{temp} {self.medida_origen} son {far_to_cel(temp)} {self.medida_destino}\\n') \n",
    "        if self.medida_origen==\"far\" and self.medida_destino==\"kel\":\n",
    "            print(f'{temp} {self.medida_origen} son {far_to_kel(temp)} {self.medida_destino}\\n') \n",
    "        if self.medida_origen==\"kel\" and self.medida_destino==\"cel\":\n",
    "            print(f'{temp} {self.medida_origen} son {kel_to_cel(temp)} {self.medida_destino}\\n') \n",
    "        if self.medida_origen==\"kel\" and self.medida_destino==\"far\":\n",
    "            print(f'{temp} {self.medida_origen} son {kel_to_far(temp)} {self.medida_destino}\\n') \n",
    "        else:\n",
    "            print(\"Los valor posibles para temperatura son solo numero y para la conversion son 'kel', 'cel y 'far\")\n",
    "            \n",
    "        \n",
    "    \n",
    "    def factorial(self,numero):\n",
    "        self.numero = numero\n",
    "        if type(self.numero)==float or self.numero<0:\n",
    "            return print(\"el numero ingresado debe entero y positivo\")\n",
    "        elif self.numero==0:\n",
    "            return 1\n",
    "        else:\n",
    "            self.numero = self.numero * self.factorial(self.numero - 1)\n",
    "            return self.numero\n",
    "        \n",
    "nums_lista=[1,2,3,4,5, 3, 5, 7, 11, 13,9,17, 1,19, 23, 29, 31, 37, 41, 43, 47, 53, 59]\n",
    "\n",
    "### ejercicio 1 es numeros primos en una lista\n",
    "print('--- ejercicio 1 es numeros primos en una lista ---\\n')\n",
    "ejercicio1=modulo8()\n",
    "ejercicio1.verificar_primo(nums_lista)\n",
    "\n",
    "\n",
    "### ejercicio 2 es valor modal en una lista, es que mas se repite y cuantas veces\n",
    "print('\\n--- ejercicio 2 es valor modal en una lista, es que mas se repite y cuantas veces ---\\n')\n",
    "ejercicio2=modulo8()\n",
    "ejercicio2.valor_modal(nums_lista)\n",
    "\n",
    "### ejercicio 3 convertidor de temp CEL, KEL, FAR\n",
    "print('\\n--- ejercicio 3 convertidor de temp CEL, KEL, FAR ---\\n')\n",
    "ejercicio3=modulo8()\n",
    "ejercicio3.convertidor_temp(235, \"kel\", \"far\")\n",
    "\n",
    "\n",
    "### ejercicio 4 el factorial de un numero, verificando que antes de calcularlo debe ser entero yu positivo\n",
    "print('\\n--- ejercicio 4 el factorial de un numero ---')\n",
    "ejercicio4=modulo8()\n",
    "ejercicio4.factorial(10)"
   ]
  },
  {
   "attachments": {},
   "cell_type": "markdown",
   "metadata": {},
   "source": [
    "2) En la función que hace la conversión de grados, validar que los parámetros enviados sean los esperados, de no serlo, informar cuáles son los valores esperados."
   ]
  },
  {
   "cell_type": "code",
   "execution_count": null,
   "metadata": {},
   "outputs": [],
   "source": [
    "class modulo8:\n",
    "    \n",
    "    #### metodo contructor\n",
    "    def __init__ (self): \n",
    "        pass\n",
    "    \n",
    "    ### metodo para verificar que cada numero es o no primo\n",
    "    def es_primo(self,numero):\n",
    "        primo=True\n",
    "        if numero == 0 or numero == 1 or numero == 2:\n",
    "            pass\n",
    "        else:\n",
    "            for i in range(2,numero):\n",
    "                if numero%i==0:\n",
    "                    primo=False\n",
    "                    break\n",
    "            if primo:\n",
    "                primo=True       \n",
    "        return primo\n",
    "    # metodo para ir recorriendo la lista y llamando a \n",
    "    # es_primo para hacer la comprobacion numero a numero\n",
    "    \n",
    "    def verificar_primo(self,lista):\n",
    "        self.lista = lista\n",
    "        resul=[]\n",
    "        for i in lista:\n",
    "            try:\n",
    "                if self.es_primo(i):            \n",
    "                    resul.append(i)\n",
    "            except:\n",
    "                print(f\"Colocaste un dato erroreo, los elementos de la lista deben ser todos enteros y positivos\")\n",
    "        print(f\"La lista resultante de los num primos de num_lista es: \\n{resul}\\n\")\n",
    "\n",
    "    ## metodo para ubicar el numero que se repite mas en una lista, viendo cuantas veces \n",
    "    ## se repite y mostrando ambos datos\n",
    "    def valor_modal(self,lista):\n",
    "        self.lista = lista\n",
    "        a=0\n",
    "        b=0\n",
    "        for i in lista:\n",
    "            for j in lista:\n",
    "                if i==j:\n",
    "                    a+=1\n",
    "            if a>b:\n",
    "                numero_mas_repe=i\n",
    "                numero_de_repe=a\n",
    "                b=a\n",
    "            a=0\n",
    "        print(f'El numero que mas se repite es: {numero_mas_repe}, {numero_de_repe} veces\\n')\n",
    "\n",
    "    ## metodo calculadora convertidor entre grados, kel, cel, far\n",
    "    def convertidor_temp(self,temp, medida_origen, medida_destino):\n",
    "        self.temp=temp\n",
    "        self.medida_origen =medida_origen\n",
    "        self.medida_destino = medida_destino\n",
    "        \n",
    "        cel_to_far = lambda cel: (cel*9/5)+32\n",
    "        cel_to_kel = lambda cel: cel+273.15\n",
    "        far_to_cel = lambda far: (far-32)*5/9\n",
    "        far_to_kel = lambda far: (far-32)*5/9 + 273.15\n",
    "        kel_to_cel = lambda kel: kel-273.15\n",
    "        kel_to_far = lambda kel: ((kel-273.15)*9/5) + 32\n",
    "        if self.medida_origen==\"cel\" and self.medida_destino==\"far\":\n",
    "            print(f'{temp} {self.medida_origen} son {cel_to_far(temp)} {self.medida_destino}\\n') \n",
    "        if self.medida_origen==\"cel\" and self.medida_destino==\"kel\":\n",
    "            print(f'{temp} {self.medida_origen} son {cel_to_kel(temp)} {self.medida_destino}\\n') \n",
    "        if self.medida_origen==\"far\" and self.medida_destino==\"cel\":\n",
    "            print(f'{temp} {self.medida_origen} son {far_to_cel(temp)} {self.medida_destino}\\n') \n",
    "        if self.medida_origen==\"far\" and self.medida_destino==\"kel\":\n",
    "            print(f'{temp} {self.medida_origen} son {far_to_kel(temp)} {self.medida_destino}\\n') \n",
    "        if self.medida_origen==\"kel\" and self.medida_destino==\"cel\":\n",
    "            print(f'{temp} {self.medida_origen} son {kel_to_cel(temp)} {self.medida_destino}\\n') \n",
    "        if self.medida_origen==\"kel\" and self.medida_destino==\"far\":\n",
    "            print(f'{temp} {self.medida_origen} son {kel_to_far(temp)} {self.medida_destino}\\n') \n",
    "        else:\n",
    "            print(\"Los valor posibles para temperatura son solo numero y para la conversion son 'kel', 'cel y 'far\")\n",
    "            \n",
    "        \n",
    "    \n",
    "    def factorial(self,numero):\n",
    "        self.numero = numero\n",
    "        if type(self.numero)==float or self.numero<0:\n",
    "            return print(\"el numero ingresado debe entero y positivo\")\n",
    "        elif self.numero==0:\n",
    "            return 1\n",
    "        else:\n",
    "            self.numero = self.numero * self.factorial(self.numero - 1)\n",
    "            return self.numero\n",
    "        \n",
    "nums_lista=[1,2,3,4,5, 3, 5, 7, 11, 13,9,17, 1,19, 23, 29, 31, 37, 41, 43, 47, 53, 59]\n",
    "\n",
    "### ejercicio 1 es numeros primos en una lista\n",
    "print('--- ejercicio 1 es numeros primos en una lista ---\\n')\n",
    "ejercicio1=modulo8()\n",
    "ejercicio1.verificar_primo(nums_lista)\n",
    "\n",
    "\n",
    "### ejercicio 2 es valor modal en una lista, es que mas se repite y cuantas veces\n",
    "print('\\n--- ejercicio 2 es valor modal en una lista, es que mas se repite y cuantas veces ---\\n')\n",
    "ejercicio2=modulo8()\n",
    "ejercicio2.valor_modal(nums_lista)\n",
    "\n",
    "### ejercicio 3 convertidor de temp CEL, KEL, FAR\n",
    "print('\\n--- ejercicio 3 convertidor de temp CEL, KEL, FAR ---\\n')\n",
    "ejercicio3=modulo8()\n",
    "ejercicio3.convertidor_temp(235, \"kel\", \"far\")\n",
    "\n",
    "\n",
    "### ejercicio 4 el factorial de un numero, verificando que antes de calcularlo debe ser entero yu positivo\n",
    "print('\\n--- ejercicio 4 el factorial de un numero ---')\n",
    "ejercicio4=modulo8()\n",
    "ejercicio4.factorial(10)"
   ]
  },
  {
   "attachments": {},
   "cell_type": "markdown",
   "metadata": {},
   "source": [
    "3) Importar el modulo \"unittest\" y crear los siguientes casos de pruebas sobre la clase utilizada en el punto 2<br>\n",
    "Creacion del objeto incorrecta<br>\n",
    "Creacion correcta del objeto<br>\n",
    "Metodo valor_modal()<br>\n",
    "\n",
    "Se puede usar \"raise ValueError()\" en la creación de la clase para verificar el error. Investigar sobre esta funcionalidad."
   ]
  },
  {
   "cell_type": "code",
   "execution_count": 12,
   "metadata": {},
   "outputs": [
    {
     "ename": "Exception",
     "evalue": "Sorry, no numbers below zero",
     "output_type": "error",
     "traceback": [
      "\u001b[1;31m---------------------------------------------------------------------------\u001b[0m",
      "\u001b[1;31mException\u001b[0m                                 Traceback (most recent call last)",
      "\u001b[1;32mc:\\Users\\hdmen\\Documentos\\Google Drive\\Documentos\\Personales\\Cursos\\Henry\\Python-Prep-Higo\\M09_errorhandling\\Prep_Course_Homework_09.ipynb Cell 7\u001b[0m line \u001b[0;36m6\n\u001b[0;32m      <a href='vscode-notebook-cell:/c%3A/Users/hdmen/Documentos/Google%20Drive/Documentos/Personales/Cursos/Henry/Python-Prep-Higo/M09_errorhandling/Prep_Course_Homework_09.ipynb#W6sZmlsZQ%3D%3D?line=2'>3</a>\u001b[0m x \u001b[39m=\u001b[39m \u001b[39m-\u001b[39m\u001b[39m1\u001b[39m\n\u001b[0;32m      <a href='vscode-notebook-cell:/c%3A/Users/hdmen/Documentos/Google%20Drive/Documentos/Personales/Cursos/Henry/Python-Prep-Higo/M09_errorhandling/Prep_Course_Homework_09.ipynb#W6sZmlsZQ%3D%3D?line=4'>5</a>\u001b[0m \u001b[39mif\u001b[39;00m x \u001b[39m<\u001b[39m \u001b[39m0\u001b[39m:\n\u001b[1;32m----> <a href='vscode-notebook-cell:/c%3A/Users/hdmen/Documentos/Google%20Drive/Documentos/Personales/Cursos/Henry/Python-Prep-Higo/M09_errorhandling/Prep_Course_Homework_09.ipynb#W6sZmlsZQ%3D%3D?line=5'>6</a>\u001b[0m   \u001b[39mraise\u001b[39;00m \u001b[39mException\u001b[39;00m(\u001b[39m\"\u001b[39m\u001b[39mSorry, no numbers below zero\u001b[39m\u001b[39m\"\u001b[39m)\n",
      "\u001b[1;31mException\u001b[0m: Sorry, no numbers below zero"
     ]
    }
   ],
   "source": [
    "import unittest\n",
    "\n"
   ]
  },
  {
   "attachments": {},
   "cell_type": "markdown",
   "metadata": {},
   "source": [
    "4) Probar una creación incorrecta y visualizar la salida del \"raise\""
   ]
  },
  {
   "cell_type": "code",
   "execution_count": 13,
   "metadata": {},
   "outputs": [
    {
     "ename": "Exception",
     "evalue": "Sorry, no numbers below zero",
     "output_type": "error",
     "traceback": [
      "\u001b[1;31m---------------------------------------------------------------------------\u001b[0m",
      "\u001b[1;31mException\u001b[0m                                 Traceback (most recent call last)",
      "\u001b[1;32mc:\\Users\\hdmen\\Documentos\\Google Drive\\Documentos\\Personales\\Cursos\\Henry\\Python-Prep-Higo\\M09_errorhandling\\Prep_Course_Homework_09.ipynb Cell 9\u001b[0m line \u001b[0;36m4\n\u001b[0;32m      <a href='vscode-notebook-cell:/c%3A/Users/hdmen/Documentos/Google%20Drive/Documentos/Personales/Cursos/Henry/Python-Prep-Higo/M09_errorhandling/Prep_Course_Homework_09.ipynb#X11sZmlsZQ%3D%3D?line=0'>1</a>\u001b[0m x \u001b[39m=\u001b[39m \u001b[39m-\u001b[39m\u001b[39m1\u001b[39m\n\u001b[0;32m      <a href='vscode-notebook-cell:/c%3A/Users/hdmen/Documentos/Google%20Drive/Documentos/Personales/Cursos/Henry/Python-Prep-Higo/M09_errorhandling/Prep_Course_Homework_09.ipynb#X11sZmlsZQ%3D%3D?line=2'>3</a>\u001b[0m \u001b[39mif\u001b[39;00m x \u001b[39m<\u001b[39m \u001b[39m0\u001b[39m:\n\u001b[1;32m----> <a href='vscode-notebook-cell:/c%3A/Users/hdmen/Documentos/Google%20Drive/Documentos/Personales/Cursos/Henry/Python-Prep-Higo/M09_errorhandling/Prep_Course_Homework_09.ipynb#X11sZmlsZQ%3D%3D?line=3'>4</a>\u001b[0m   \u001b[39mraise\u001b[39;00m \u001b[39mException\u001b[39;00m(\u001b[39m\"\u001b[39m\u001b[39mSorry, no numbers below zero\u001b[39m\u001b[39m\"\u001b[39m)\n",
      "\u001b[1;31mException\u001b[0m: Sorry, no numbers below zero"
     ]
    }
   ],
   "source": [
    "x = -1\n",
    "\n",
    "if x < 0:\n",
    "  raise Exception(\"Sorry, no numbers below zero\")"
   ]
  },
  {
   "attachments": {},
   "cell_type": "markdown",
   "metadata": {},
   "source": [
    "6) Agregar casos de pruebas para el método verifica_primos() realizando el cambio en la clase, para que devuelva una lista de True o False en función de que el elemento en la posisicón sea o no primo"
   ]
  },
  {
   "cell_type": "code",
   "execution_count": null,
   "metadata": {},
   "outputs": [],
   "source": []
  },
  {
   "attachments": {},
   "cell_type": "markdown",
   "metadata": {},
   "source": [
    "7) Agregar casos de pruebas para el método conversion_grados()"
   ]
  },
  {
   "cell_type": "code",
   "execution_count": null,
   "metadata": {},
   "outputs": [],
   "source": []
  },
  {
   "attachments": {},
   "cell_type": "markdown",
   "metadata": {},
   "source": [
    "8) Agregar casos de pruebas para el método factorial()"
   ]
  },
  {
   "cell_type": "code",
   "execution_count": null,
   "metadata": {},
   "outputs": [],
   "source": []
  }
 ],
 "metadata": {
  "interpreter": {
   "hash": "c85384e4cb51c8b72350f3a8712cc8351fdc3955e32a27f9b60c6242ab125f01"
  },
  "kernelspec": {
   "display_name": "Python 3 (ipykernel)",
   "language": "python",
   "name": "python3"
  },
  "language_info": {
   "codemirror_mode": {
    "name": "ipython",
    "version": 3
   },
   "file_extension": ".py",
   "mimetype": "text/x-python",
   "name": "python",
   "nbconvert_exporter": "python",
   "pygments_lexer": "ipython3",
   "version": "3.11.5"
  }
 },
 "nbformat": 4,
 "nbformat_minor": 4
}
