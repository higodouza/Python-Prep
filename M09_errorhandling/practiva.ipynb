{
 "cells": [
  {
   "cell_type": "code",
   "execution_count": 6,
   "metadata": {},
   "outputs": [
    {
     "name": "stdout",
     "output_type": "stream",
     "text": [
      "el error es 'invalid literal for int() with base 10: '2ae''\n",
      "pon un num pls\n",
      "el error es 'invalid literal for int() with base 10: '''\n",
      "pon un num pls\n",
      "el error es 'invalid literal for int() with base 10: '''\n",
      "pon un num pls\n",
      "6\n"
     ]
    }
   ],
   "source": [
    "def sumar():\n",
    "    while True:\n",
    "        a = input(\"numero 1: \")\n",
    "        b = input(\"numero 2: \")\n",
    "        try:\n",
    "            resul=int(a) + int(b)\n",
    "        except Exception as e:\n",
    "            print(f\"el error es '{e}'\")\n",
    "            print(\"pon un num pls\")\n",
    "        else:\n",
    "            break\n",
    "    return resul\n",
    "print(sumar())"
   ]
  },
  {
   "cell_type": "code",
   "execution_count": 2,
   "metadata": {},
   "outputs": [
    {
     "ename": "AssertionError",
     "evalue": "43 no es str",
     "output_type": "error",
     "traceback": [
      "\u001b[1;31m---------------------------------------------------------------------------\u001b[0m",
      "\u001b[1;31mAssertionError\u001b[0m                            Traceback (most recent call last)",
      "\u001b[1;32mc:\\Users\\hdmen\\Documentos\\Google Drive\\Documentos\\Personales\\Cursos\\Henry\\Python-Prep-Higo\\M09_errorhandling\\practiva.ipynb Cell 2\u001b[0m line \u001b[0;36m1\n\u001b[0;32m      <a href='vscode-notebook-cell:/c%3A/Users/hdmen/Documentos/Google%20Drive/Documentos/Personales/Cursos/Henry/Python-Prep-Higo/M09_errorhandling/practiva.ipynb#W1sZmlsZQ%3D%3D?line=8'>9</a>\u001b[0m     \u001b[39mreturn\u001b[39;00m primeras_letras\n\u001b[0;32m     <a href='vscode-notebook-cell:/c%3A/Users/hdmen/Documentos/Google%20Drive/Documentos/Personales/Cursos/Henry/Python-Prep-Higo/M09_errorhandling/practiva.ipynb#W1sZmlsZQ%3D%3D?line=10'>11</a>\u001b[0m palabras\u001b[39m=\u001b[39m[\u001b[39m\"\u001b[39m\u001b[39mhola\u001b[39m\u001b[39m\"\u001b[39m, \u001b[39m\"\u001b[39m\u001b[39mmundo\u001b[39m\u001b[39m\"\u001b[39m, \u001b[39m43\u001b[39m]\n\u001b[1;32m---> <a href='vscode-notebook-cell:/c%3A/Users/hdmen/Documentos/Google%20Drive/Documentos/Personales/Cursos/Henry/Python-Prep-Higo/M09_errorhandling/practiva.ipynb#W1sZmlsZQ%3D%3D?line=12'>13</a>\u001b[0m primera_letra(palabras)\n",
      "\u001b[1;32mc:\\Users\\hdmen\\Documentos\\Google Drive\\Documentos\\Personales\\Cursos\\Henry\\Python-Prep-Higo\\M09_errorhandling\\practiva.ipynb Cell 2\u001b[0m line \u001b[0;36m5\n\u001b[0;32m      <a href='vscode-notebook-cell:/c%3A/Users/hdmen/Documentos/Google%20Drive/Documentos/Personales/Cursos/Henry/Python-Prep-Higo/M09_errorhandling/practiva.ipynb#W1sZmlsZQ%3D%3D?line=1'>2</a>\u001b[0m primeras_letras \u001b[39m=\u001b[39m []\n\u001b[0;32m      <a href='vscode-notebook-cell:/c%3A/Users/hdmen/Documentos/Google%20Drive/Documentos/Personales/Cursos/Henry/Python-Prep-Higo/M09_errorhandling/practiva.ipynb#W1sZmlsZQ%3D%3D?line=3'>4</a>\u001b[0m \u001b[39mfor\u001b[39;00m palabra \u001b[39min\u001b[39;00m lista_de_palabras:\n\u001b[1;32m----> <a href='vscode-notebook-cell:/c%3A/Users/hdmen/Documentos/Google%20Drive/Documentos/Personales/Cursos/Henry/Python-Prep-Higo/M09_errorhandling/practiva.ipynb#W1sZmlsZQ%3D%3D?line=4'>5</a>\u001b[0m     \u001b[39massert\u001b[39;00m \u001b[39mtype\u001b[39m(palabra) \u001b[39m==\u001b[39m \u001b[39mstr\u001b[39m, \u001b[39mf\u001b[39m\u001b[39m'\u001b[39m\u001b[39m{\u001b[39;00mpalabra\u001b[39m}\u001b[39;00m\u001b[39m no es str\u001b[39m\u001b[39m'\u001b[39m\n\u001b[0;32m      <a href='vscode-notebook-cell:/c%3A/Users/hdmen/Documentos/Google%20Drive/Documentos/Personales/Cursos/Henry/Python-Prep-Higo/M09_errorhandling/practiva.ipynb#W1sZmlsZQ%3D%3D?line=5'>6</a>\u001b[0m     \u001b[39massert\u001b[39;00m \u001b[39mlen\u001b[39m(palabra) \u001b[39m>\u001b[39m \u001b[39m0\u001b[39m, \u001b[39m'\u001b[39m\u001b[39mNo se permiten str vacíos\u001b[39m\u001b[39m'\u001b[39m\n\u001b[0;32m      <a href='vscode-notebook-cell:/c%3A/Users/hdmen/Documentos/Google%20Drive/Documentos/Personales/Cursos/Henry/Python-Prep-Higo/M09_errorhandling/practiva.ipynb#W1sZmlsZQ%3D%3D?line=7'>8</a>\u001b[0m     primeras_letras\u001b[39m.\u001b[39mappend(palabra[\u001b[39m0\u001b[39m])\n",
      "\u001b[1;31mAssertionError\u001b[0m: 43 no es str"
     ]
    }
   ],
   "source": [
    "def primera_letra(lista_de_palabras):\n",
    "    primeras_letras = []\n",
    "\n",
    "    for palabra in lista_de_palabras:\n",
    "        assert type(palabra) == str, f'{palabra} no es str'\n",
    "        assert len(palabra) > 0, 'No se permiten str vacíos'\n",
    "\n",
    "        primeras_letras.append(palabra[0])\n",
    "    return primeras_letras\n",
    "\n",
    "palabras=[\"hola\", \"mundo\", 43]\n",
    "\n",
    "primera_letra(palabras)"
   ]
  },
  {
   "cell_type": "code",
   "execution_count": 3,
   "metadata": {},
   "outputs": [
    {
     "name": "stdout",
     "output_type": "stream",
     "text": [
      "imvesil te equivocaste asi en serio lo hiciste?\n",
      "si eres gafo vale!!\n"
     ]
    }
   ],
   "source": [
    "class MiExcep(Exception):\n",
    "    def __init__(self, err):\n",
    "        print(f\"imvesil te equivocaste asi {err}\")\n",
    "        \n",
    "try: \n",
    "    raise MiExcep(\"en serio lo hiciste?\")\n",
    "except:\n",
    "    print(\"si eres gafo vale!!\")"
   ]
  }
 ],
 "metadata": {
  "kernelspec": {
   "display_name": "Python 3",
   "language": "python",
   "name": "python3"
  },
  "language_info": {
   "codemirror_mode": {
    "name": "ipython",
    "version": 3
   },
   "file_extension": ".py",
   "mimetype": "text/x-python",
   "name": "python",
   "nbconvert_exporter": "python",
   "pygments_lexer": "ipython3",
   "version": "3.11.5"
  }
 },
 "nbformat": 4,
 "nbformat_minor": 2
}
