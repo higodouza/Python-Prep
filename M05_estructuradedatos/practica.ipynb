{
 "cells": [
  {
   "cell_type": "code",
   "execution_count": 1,
   "metadata": {},
   "outputs": [
    {
     "name": "stdout",
     "output_type": "stream",
     "text": [
      "['Rojo', 'Azul', 'Amarillo', 'Naranja', 'Violeta']\n"
     ]
    }
   ],
   "source": [
    "mi_lista = ['Rojo','Azul','Amarillo','Naranja','Violeta','Verde']\n",
    "mi_lista1 = ['Rojo','Azul','Amarillo','Naranja','Violeta','Verde']\n",
    "listanew=  mi_lista1+mi_lista\n",
    "mi_lista.pop()\n",
    "#mi_lista.append('Rojo')\n",
    "print(mi_lista)"
   ]
  },
  {
   "cell_type": "code",
   "execution_count": 4,
   "metadata": {},
   "outputs": [
    {
     "name": "stdout",
     "output_type": "stream",
     "text": [
      "5\n"
     ]
    }
   ],
   "source": [
    "print(len(mi_lista))"
   ]
  },
  {
   "cell_type": "code",
   "execution_count": 4,
   "metadata": {},
   "outputs": [
    {
     "name": "stdout",
     "output_type": "stream",
     "text": [
      "{'1': 'tokio', '2': 'ccs', '3': 'londres', '4': 'rio', '5': 'new york', '6': 'madrid'}\n",
      "dict_keys(['1', '2', '3', '4', '5', '6'])\n",
      "dict_values(['tokio', 'ccs', 'londres', 'rio', 'new york', 'madrid'])\n"
     ]
    }
   ],
   "source": [
    "ciudades3={\"1\":\"tokio\",\n",
    "          \"2\":\"ccs\",\n",
    "          \"3\":\"londres\",\n",
    "          \"4\":\"rio\",\n",
    "          \"5\":\"new york\",\n",
    "          \"6\":\"madrid\"}\n",
    "print(ciudades3)\n",
    "print(ciudades3.keys())\n",
    "print(ciudades3.values())"
   ]
  }
 ],
 "metadata": {
  "kernelspec": {
   "display_name": "Python 3",
   "language": "python",
   "name": "python3"
  },
  "language_info": {
   "codemirror_mode": {
    "name": "ipython",
    "version": 3
   },
   "file_extension": ".py",
   "mimetype": "text/x-python",
   "name": "python",
   "nbconvert_exporter": "python",
   "pygments_lexer": "ipython3",
   "version": "3.11.5"
  },
  "orig_nbformat": 4
 },
 "nbformat": 4,
 "nbformat_minor": 2
}
