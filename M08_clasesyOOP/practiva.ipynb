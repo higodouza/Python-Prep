{
 "cells": [
  {
   "cell_type": "code",
   "execution_count": 1,
   "metadata": {},
   "outputs": [],
   "source": [
    "class Animal:\n",
    "    def __init__(self, especie, edad):\n",
    "        self.especie = especie\n",
    "        self.edad = edad\n",
    "\n",
    "    # Método genérico pero con implementación particular\n",
    "    def hablar(self):\n",
    "        # Método vacío\n",
    "        pass\n",
    "\n",
    "    # Método genérico pero con implementación particular\n",
    "    def moverse(self):\n",
    "        # Método vacío\n",
    "        pass\n",
    "\n",
    "    # Método genérico con la misma implementación\n",
    "    def describeme(self):\n",
    "        print(\"Soy un Animal del tipo\", type(self).__name__)\n",
    "\n",
    "\n",
    "class Perro(Animal):\n",
    "    def hablar(self):\n",
    "        print(\"Guau!\")\n",
    "    def moverse(self):\n",
    "        print(\"Caminando con 4 patas\")\n",
    "\n",
    "class Vaca(Animal):\n",
    "    def hablar(self):\n",
    "        print(\"Muuu!\")\n",
    "    def moverse(self):\n",
    "        print(\"Caminando con 4 patas\")\n",
    "\n",
    "class Abeja(Animal):\n",
    "    def hablar(self):\n",
    "        print(\"Bzzzz!\")\n",
    "    def moverse(self):\n",
    "        print(\"Volando\")\n",
    "\n",
    "    # Nuevo método\n",
    "    def picar(self):\n",
    "        print(\"Picar!\")"
   ]
  },
  {
   "cell_type": "code",
   "execution_count": 13,
   "metadata": {},
   "outputs": [
    {
     "name": "stdout",
     "output_type": "stream",
     "text": [
      "Soy un Animal del tipo Perro\n"
     ]
    }
   ],
   "source": [
    "animalito=Perro(\"pooddle\", 3)\n",
    "animalito.describeme()"
   ]
  },
  {
   "cell_type": "code",
   "execution_count": 16,
   "metadata": {},
   "outputs": [
    {
     "name": "stdout",
     "output_type": "stream",
     "text": [
      "llamas desde un : 15promax\n",
      "15pro\n",
      "230g\n"
     ]
    }
   ],
   "source": [
    "class Celular:\n",
    "    def __init__(self, marca, modelo, camara) :\n",
    "        self.marca = marca\n",
    "        self.modelo = modelo\n",
    "        self.camara = camara\n",
    "    def llamar(self):\n",
    "        print(f\"llamas desde un : {self.modelo}\")\n",
    "celular = Celular(\"iphnone\", \"15promax\", \"48pm\")\n",
    "celular.llamar()\n",
    "\n",
    "class Fisico(Celular):\n",
    "    def __init__(self, marca, modelo, camara, tamano, peso, pulgadas):\n",
    "        super().__init__(marca, modelo, camara)\n",
    "        self.tamano = tamano\n",
    "        self.peso = peso\n",
    "        self.pulgadas = pulgadas           \n",
    "\n",
    "celular = Fisico(\"ihone\",\"15pro\", \"123mp\",\"grande\",\"230g\",\"6.7'\")\n",
    "print(celular.modelo) \n",
    "print(celular.peso) "
   ]
  },
  {
   "cell_type": "code",
   "execution_count": 21,
   "metadata": {},
   "outputs": [
    {
     "name": "stdout",
     "output_type": "stream",
     "text": [
      "c:\\Users\\hdmen\\Documentos\\Google Drive\\Documentos\\Personales\\Cursos\\Henry\\Python-Prep-Higo\\M08_clasesyOOP\\practiva.ipynb\n"
     ]
    }
   ],
   "source": [
    "mi_variable = \"Python\"\n",
    "def mi_funcion():\n",
    "    pass\n",
    "print(__vsc_ipynb_file__)"
   ]
  }
 ],
 "metadata": {
  "kernelspec": {
   "display_name": "Python 3",
   "language": "python",
   "name": "python3"
  },
  "language_info": {
   "codemirror_mode": {
    "name": "ipython",
    "version": 3
   },
   "file_extension": ".py",
   "mimetype": "text/x-python",
   "name": "python",
   "nbconvert_exporter": "python",
   "pygments_lexer": "ipython3",
   "version": "3.11.5"
  }
 },
 "nbformat": 4,
 "nbformat_minor": 2
}
