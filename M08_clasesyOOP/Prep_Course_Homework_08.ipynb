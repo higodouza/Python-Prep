{
 "cells": [
  {
   "attachments": {},
   "cell_type": "markdown",
   "metadata": {},
   "source": [
    "## Clases y Programación Orientada a Objetos"
   ]
  },
  {
   "attachments": {},
   "cell_type": "markdown",
   "metadata": {},
   "source": [
    "1) Crear la clase vehículo que contenga los atributos:<br>\n",
    "Color<br>\n",
    "Si es moto, auto, camioneta ó camión<br>\n",
    "Cilindrada del motor"
   ]
  },
  {
   "cell_type": "code",
   "execution_count": 16,
   "metadata": {},
   "outputs": [],
   "source": [
    "class vehiculo:\n",
    "    def __init__(self,color,tipo,cilindrada):\n",
    "        self.color = color\n",
    "        self.tipo = tipo\n",
    "        self.cilindrada = cilindrada"
   ]
  },
  {
   "attachments": {},
   "cell_type": "markdown",
   "metadata": {},
   "source": [
    "2) A la clase Vehiculo creada en el punto 1, agregar los siguientes métodos:<br>\n",
    "Acelerar<br>\n",
    "Frenar<br>\n",
    "Doblar<br>"
   ]
  },
  {
   "cell_type": "code",
   "execution_count": 17,
   "metadata": {},
   "outputs": [],
   "source": [
    "class vehiculo:\n",
    "    def __init__(self,color,tipo,cilindrada):\n",
    "        self.color = color\n",
    "        self.tipo = tipo\n",
    "        self.cilindrada = cilindrada\n",
    "\n",
    "    def acelerar(self):\n",
    "        print(f\"Acelerandooo!!! \")\n",
    "    def frenar(self):\n",
    "        print(\"Frenandooo!!!\")\n",
    "    def doblando(self):\n",
    "        print(\"doblando!!!\")          \n",
    "              "
   ]
  },
  {
   "attachments": {},
   "cell_type": "markdown",
   "metadata": {},
   "source": [
    "3) Instanciar 3 objetos de la clase vehículo y ejecutar sus métodos, probar luego el resultado"
   ]
  },
  {
   "cell_type": "code",
   "execution_count": 18,
   "metadata": {},
   "outputs": [
    {
     "name": "stdout",
     "output_type": "stream",
     "text": [
      "Acelerandooo!!! \n",
      "Frenandooo!!!\n",
      "doblando!!!\n"
     ]
    }
   ],
   "source": [
    "carro=vehiculo(\"rojo\",\"carro\",4)\n",
    "moto=vehiculo(\"verde\",\"moto\",2)\n",
    "camion=vehiculo(\"negro\",\"camion\",16)\n",
    "\n",
    "\n",
    "carro.acelerar()\n",
    "carro.frenar()\n",
    "carro.doblando()"
   ]
  },
  {
   "attachments": {},
   "cell_type": "markdown",
   "metadata": {},
   "source": [
    "4) Agregar a la clase Vehiculo, un método que muestre su estado, es decir, a que velocidad se encuentra y su dirección. Y otro método que muestre color, tipo y cilindrada"
   ]
  },
  {
   "cell_type": "code",
   "execution_count": 19,
   "metadata": {},
   "outputs": [
    {
     "name": "stdout",
     "output_type": "stream",
     "text": [
      "El vehiculo esta parado\n",
      "Acelerandooo!!! a 30km/h\n",
      "Frenandooo!!! a 20km/h\n",
      "El vehiculo esta va a 20km/h yendo hacia la adelante\n",
      "doblando a la derecha!!!\n",
      "El vehiculo esta va a 20km/h yendo hacia la derecha\n",
      "doblando a la izquiera!!!\n",
      "El vehiculo esta va a 20km/h yendo hacia la izquiera\n",
      "Frenandooo!!! a 0km/h\n",
      "El vehiculo esta parado\n"
     ]
    }
   ],
   "source": [
    "class vehiculo:\n",
    "    velocidad=0\n",
    "    def __init__(self,color,tipo,cilindrada):\n",
    "        self.color = color\n",
    "        self.tipo = tipo\n",
    "        self.cilindrada = cilindrada\n",
    "        self.velocidad = 0\n",
    "        self.direccion = \"adelante\"\n",
    "\n",
    "\n",
    "    def acelerar(self,acelerando):\n",
    "        self.velocidad = self.velocidad+acelerando\n",
    "        print(f\"Acelerandooo!!! a {self.velocidad}km/h\")\n",
    "        \n",
    "    def frenar(self,frenando):\n",
    "        self.velocidad = self.velocidad-frenando\n",
    "        print(f\"Frenandooo!!! a {self.velocidad}km/h\")\n",
    "        \n",
    "    def doblando(self, nueva_direccion):\n",
    "        self.direccion = nueva_direccion\n",
    "        print(f\"doblando a la {self.direccion}!!!\" )  \n",
    "        \n",
    "        \n",
    "    def info(self):\n",
    "        print(f\"El vehiculo es un/a {self.tipo} {self.color} de {self.cilindrada} cilindros\")\n",
    "        \n",
    "    def estado(self):\n",
    "        if self.velocidad==0:\n",
    "            print(\"El vehiculo esta parado\")\n",
    "        else:\n",
    "            print(f\"El vehiculo esta va a {self.velocidad}km/h yendo hacia la {self.direccion}\")\n",
    "        \n",
    "carro=vehiculo(\"rojo\",\"carro\",4)\n",
    "moto=vehiculo(\"verde\",\"moto\",2)\n",
    "camion=vehiculo(\"negro\",\"camion\",16)\n",
    "\n",
    "carro.estado()\n",
    "carro.acelerar(30)\n",
    "carro.frenar(10)\n",
    "carro.estado()\n",
    "carro.doblando(\"derecha\")\n",
    "carro.estado()\n",
    "carro.doblando(\"izquiera\")\n",
    "carro.estado()\n",
    "carro.frenar(20)\n",
    "carro.estado()\n",
    "\n"
   ]
  },
  {
   "attachments": {},
   "cell_type": "markdown",
   "metadata": {},
   "source": [
    "5) Crear una clase que permita utilizar las funciones creadas en la práctica del módulo 7<br>\n",
    "Verificar Primo<br>\n",
    "Valor modal<br>\n",
    "Conversión grados<br>\n",
    "Factorial<br>"
   ]
  },
  {
   "cell_type": "code",
   "execution_count": 20,
   "metadata": {},
   "outputs": [],
   "source": [
    "class modulo7:\n",
    "    \n",
    "    #### metodo contructor\n",
    "    def __init__ (self): \n",
    "        pass\n",
    "    \n",
    "    ### metodo para verificar que cada numero es o no primo\n",
    "    def es_primo(self,numero):\n",
    "        primo=True\n",
    "        if numero == 0 or numero == 1 or numero == 2:\n",
    "            pass\n",
    "        else:\n",
    "            for i in range(2,numero):\n",
    "                if numero%i==0:\n",
    "                    primo=False\n",
    "                    break\n",
    "            if primo:\n",
    "                primo=True       \n",
    "        return primo\n",
    "    # metodo para ir recorriendo la lista y llamando a \n",
    "    # es_primo para hacer la comprobacion numero a numero\n",
    "    \n",
    "    def verificar_primo(self,lista):\n",
    "        self.lista = lista\n",
    "        resul=[]\n",
    "        for i in lista:\n",
    "            if self.es_primo(i):            \n",
    "                resul.append(i)\n",
    "        print(f\"La lista resultante de los num primos de num_lista es: \\n{resul}\\n\")\n",
    "\n",
    "    ## metodo para ubicar el numero que se repite mas en una lista, viendo cuantas veces \n",
    "    ## se repite y mostrando ambos datos\n",
    "    def valor_modal(self,lista):\n",
    "        self.lista = lista\n",
    "        a=0\n",
    "        b=0\n",
    "        for i in lista:\n",
    "            for j in lista:\n",
    "                if i==j:\n",
    "                    a+=1\n",
    "            if a>b:\n",
    "                numero_mas_repe=i\n",
    "                numero_de_repe=a\n",
    "                b=a\n",
    "            a=0\n",
    "        print(f'El numero que mas se repite es: {numero_mas_repe}, {numero_de_repe} veces\\n')\n",
    "\n",
    "    ## metodo calculadora convertidor entre grados, kel, cel, far\n",
    "    def convertidor_temp(self,temp, medida_origen, medida_destino):\n",
    "        self.temp=temp\n",
    "        self.medida_origen =medida_origen\n",
    "        self.medida_destino = medida_destino\n",
    "        \n",
    "        cel_to_far = lambda cel: (cel*9/5)+32\n",
    "        cel_to_kel = lambda cel: cel+273.15\n",
    "        far_to_cel = lambda far: (far-32)*5/9\n",
    "        far_to_kel = lambda far: (far-32)*5/9 + 273.15\n",
    "        kel_to_cel = lambda kel: kel-273.15\n",
    "        kel_to_far = lambda kel: ((kel-273.15)*9/5) + 32\n",
    "        \n",
    "        if self.medida_origen==\"cel\" and self.medida_destino==\"far\":\n",
    "            print(f'{temp} {self.medida_origen} son {cel_to_far(temp)} {self.medida_destino}\\n') \n",
    "        if self.medida_origen==\"cel\" and self.medida_destino==\"kel\":\n",
    "            print(f'{temp} {self.medida_origen} son {cel_to_kel(temp)} {self.medida_destino}\\n') \n",
    "        if self.medida_origen==\"far\" and self.medida_destino==\"cel\":\n",
    "            print(f'{temp} {self.medida_origen} son {far_to_cel(temp)} {self.medida_destino}\\n') \n",
    "        if self.medida_origen==\"far\" and self.medida_destino==\"kel\":\n",
    "            print(f'{temp} {self.medida_origen} son {far_to_kel(temp)} {self.medida_destino}\\n') \n",
    "        if self.medida_origen==\"kel\" and self.medida_destino==\"cel\":\n",
    "            print(f'{temp} {self.medida_origen} son {kel_to_cel(temp)} {self.medida_destino}\\n') \n",
    "        if self.medida_origen==\"kel\" and self.medida_destino==\"far\":\n",
    "            print(f'{temp} {self.medida_origen} son {kel_to_far(temp)} {self.medida_destino}\\n') \n",
    "    \n",
    "    def factorial(self,numero):\n",
    "        self.numero = numero\n",
    "        if type(self.numero)==float or self.numero<0:\n",
    "            return print(\"el numero ingresado debe entero y positivo\")\n",
    "        elif self.numero==0:\n",
    "            return 1\n",
    "        else:\n",
    "            self.numero = self.numero * self.factorial(self.numero - 1)\n",
    "            return self.numero\n",
    "        \n",
    "nums_lista=[1,2,3,4,5,2, 3, 5, 7, 11, 13,9,17, 1,19, 23, 29, 31, 37, 41, 43, 47, 53, 59]\n",
    "\n",
    "\n"
   ]
  },
  {
   "attachments": {},
   "cell_type": "markdown",
   "metadata": {},
   "source": [
    "6) Probar las funciones incorporadas en la clase del punto 5"
   ]
  },
  {
   "cell_type": "code",
   "execution_count": 21,
   "metadata": {},
   "outputs": [
    {
     "name": "stdout",
     "output_type": "stream",
     "text": [
      "--- ejercicio 1 es numeros primos en una lista ---\n",
      "\n",
      "La lista resultante de los num primos de num_lista es: \n",
      "[1, 2, 3, 5, 2, 3, 5, 7, 11, 13, 17, 1, 19, 23, 29, 31, 37, 41, 43, 47, 53, 59]\n",
      "\n",
      "\n",
      "--- ejercicio 2 es valor modal en una lista, es que mas se repite y cuantas veces ---\n",
      "\n",
      "El numero que mas se repite es: 1, 2 veces\n",
      "\n",
      "\n",
      "--- ejercicio 3 convertidor de temp CEL, KEL, FAR ---\n",
      "\n",
      "235 kel son -36.66999999999996 far\n",
      "\n",
      "\n",
      "--- ejercicio 4 el factorial de un numero ---\n"
     ]
    },
    {
     "data": {
      "text/plain": [
       "3628800"
      ]
     },
     "execution_count": 21,
     "metadata": {},
     "output_type": "execute_result"
    }
   ],
   "source": [
    "### ejercicio 1 es numeros primos en una lista\n",
    "print('--- ejercicio 1 es numeros primos en una lista ---\\n')\n",
    "ejercicio1=modulo7()\n",
    "ejercicio1.verificar_primo(nums_lista)\n",
    "\n",
    "\n",
    "### ejercicio 2 es valor modal en una lista, es que mas se repite y cuantas veces\n",
    "print('\\n--- ejercicio 2 es valor modal en una lista, es que mas se repite y cuantas veces ---\\n')\n",
    "ejercicio2=modulo7()\n",
    "ejercicio2.valor_modal(nums_lista)\n",
    "\n",
    "### ejercicio 3 convertidor de temp CEL, KEL, FAR\n",
    "print('\\n--- ejercicio 3 convertidor de temp CEL, KEL, FAR ---\\n')\n",
    "ejercicio3=modulo7()\n",
    "ejercicio3.convertidor_temp(235, \"kel\", \"far\")\n",
    "\n",
    "\n",
    "### ejercicio 4 el factorial de un numero, verificando que antes de calcularlo debe ser entero yu positivo\n",
    "print('\\n--- ejercicio 4 el factorial de un numero ---')\n",
    "ejercicio4=modulo7()\n",
    "ejercicio4.factorial(10)"
   ]
  },
  {
   "attachments": {},
   "cell_type": "markdown",
   "metadata": {},
   "source": [
    "7) Es necesario que la clase creada en el punto 5 contenga una lista, sobre la cual se apliquen las funciones incorporadas"
   ]
  },
  {
   "cell_type": "code",
   "execution_count": 22,
   "metadata": {},
   "outputs": [],
   "source": [
    "#no"
   ]
  },
  {
   "attachments": {},
   "cell_type": "markdown",
   "metadata": {},
   "source": [
    "8) Crear un archivo .py aparte y ubicar allí la clase generada en el punto anterior. Luego realizar la importación del módulo y probar alguna de sus funciones"
   ]
  },
  {
   "cell_type": "code",
   "execution_count": 32,
   "metadata": {},
   "outputs": [
    {
     "name": "stdout",
     "output_type": "stream",
     "text": [
      "\n",
      "--- ejercicio trayendo metodos de una clase en un modulo importado ---\n",
      "La lista resultante de los num primos de num_lista es: \n",
      "[1, 2, 3, 5, 2, 3, 5, 7, 11, 13, 17, 1, 19, 23, 29, 31, 37, 41, 43, 47, 53, 59]\n",
      "\n"
     ]
    }
   ],
   "source": [
    "import modulos_clases\n",
    "\n",
    "print('\\n--- ejercicio trayendo metodos de una clase en un modulo importado ---')\n",
    "ejercicio = modulos_clases.modulo8()\n",
    "ejercicio.verificar_primo([1, 2, 3, 5,4,44,4444,333,333333,33333,2, 3, 5, 7, 11, 13, 17, 1, 19, 23, 29, 31, 37, 41, 43, 47, 53, 59])\n"
   ]
  },
  {
   "cell_type": "markdown",
   "metadata": {},
   "source": []
  }
 ],
 "metadata": {
  "interpreter": {
   "hash": "c85384e4cb51c8b72350f3a8712cc8351fdc3955e32a27f9b60c6242ab125f01"
  },
  "kernelspec": {
   "display_name": "Python 3 (ipykernel)",
   "language": "python",
   "name": "python3"
  },
  "language_info": {
   "codemirror_mode": {
    "name": "ipython",
    "version": 3
   },
   "file_extension": ".py",
   "mimetype": "text/x-python",
   "name": "python",
   "nbconvert_exporter": "python",
   "pygments_lexer": "ipython3",
   "version": "3.11.5"
  }
 },
 "nbformat": 4,
 "nbformat_minor": 4
}
