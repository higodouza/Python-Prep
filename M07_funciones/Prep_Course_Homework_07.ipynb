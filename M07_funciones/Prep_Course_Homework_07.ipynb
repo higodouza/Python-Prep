{
 "cells": [
  {
   "attachments": {},
   "cell_type": "markdown",
   "metadata": {},
   "source": [
    "## Funciones"
   ]
  },
  {
   "attachments": {},
   "cell_type": "markdown",
   "metadata": {},
   "source": [
    "1) Crear una función que reciba un número como parámetro y devuelva True si es primo y False si no lo es"
   ]
  },
  {
   "cell_type": "code",
   "execution_count": 13,
   "metadata": {},
   "outputs": [
    {
     "data": {
      "text/plain": [
       "True"
      ]
     },
     "execution_count": 13,
     "metadata": {},
     "output_type": "execute_result"
    }
   ],
   "source": [
    "def es_primo(numero):\n",
    "    primo=True\n",
    "    if numero == 0 or numero == 1 or numero == 2:\n",
    "        pass\n",
    "    else:\n",
    "        for i in range(2,numero):\n",
    "            if numero%i==0:\n",
    "                primo=False\n",
    "                break\n",
    "        if primo:\n",
    "            primo=True       \n",
    "    return primo\n",
    "    \n",
    "es_primo(1)"
   ]
  },
  {
   "attachments": {},
   "cell_type": "markdown",
   "metadata": {},
   "source": [
    "2) Utilizando la función del punto 1, realizar otra función que reciba de parámetro una lista de números y devuelva sólo aquellos que son primos en otra lista"
   ]
  },
  {
   "cell_type": "code",
   "execution_count": 10,
   "metadata": {},
   "outputs": [
    {
     "data": {
      "text/plain": [
       "[1, 2, 3, 5, 2, 3, 5, 7, 11, 13, 17, 19, 23, 29, 67, 3, 23, 23, 5]"
      ]
     },
     "execution_count": 10,
     "metadata": {},
     "output_type": "execute_result"
    }
   ],
   "source": [
    "lista=[1,2,3,4,5,6,2,3,5, 7, 11, 13, 17, 19, 23, 29, 3123,435,2356,900,67,65,654,765,4,3,23,23,5,32,435,34,534,]\n",
    "resul=[]\n",
    "def comprobando_lista(lista):\n",
    "    for i in lista:\n",
    "        if es_primo(i):            \n",
    "            resul.append(i)\n",
    "    return resul\n",
    "\n",
    "comprobando_lista(lista)"
   ]
  },
  {
   "attachments": {},
   "cell_type": "markdown",
   "metadata": {},
   "source": [
    "3) Crear una función que al recibir una lista de números, devuelva el que más se repite y cuántas veces lo hace. Si hay más de un \"más repetido\", que devuelva cualquiera"
   ]
  },
  {
   "cell_type": "code",
   "execution_count": 9,
   "metadata": {},
   "outputs": [
    {
     "name": "stdout",
     "output_type": "stream",
     "text": [
      "El numero que se repite mas veces es el 3, 1 veces\n"
     ]
    }
   ],
   "source": [
    "lista=[3,23,5,32,435,34,534]\n",
    "\n",
    "def buscando_num_repe(lista):\n",
    "    a=0\n",
    "    b=0\n",
    "    for i in lista:\n",
    "        \n",
    "        for j in lista:\n",
    "            if i==j:\n",
    "                a+=1\n",
    "        if a>b:\n",
    "            numero_mas_repe=i\n",
    "            numero_de_repe=a\n",
    "            b=a\n",
    "        a=0\n",
    "    return numero_mas_repe, numero_de_repe\n",
    "\n",
    "num, repes = buscando_num_repe(lista)\n",
    "\n",
    "print(f\"El numero que se repite mas veces es el {num}, {repes} veces\")\n",
    "\n",
    "        \n",
    "        \n",
    "        \n",
    "                \n",
    "                \n",
    "    "
   ]
  },
  {
   "attachments": {},
   "cell_type": "markdown",
   "metadata": {},
   "source": [
    "4) Crear una función que convierta entre grados Celsius, Farenheit y Kelvin<br>\n",
    "Fórmula 1\t: (°C × 9/5) + 32 = °F<br>\n",
    "Fórmula 2\t: °C + 273.15 = °K<br>\n",
    "Debe recibir 3 parámetros: el valor, la medida de orígen y la medida de destino\n"
   ]
  },
  {
   "cell_type": "code",
   "execution_count": 12,
   "metadata": {},
   "outputs": [
    {
     "data": {
      "text/plain": [
       "8.333333333333334"
      ]
     },
     "execution_count": 12,
     "metadata": {},
     "output_type": "execute_result"
    }
   ],
   "source": [
    "\n",
    "\n",
    "def convertidor_temp(valor, medida_origen, medida_destino):\n",
    "    cel_to_far = lambda cel: (cel*9/5)+32\n",
    "    cel_to_kel = lambda cel: cel+273.15\n",
    "    far_to_cel = lambda far: (far-32)*5/9\n",
    "    far_to_kel = lambda far: (far-32)*5/9 + 273.15\n",
    "    kel_to_cel = lambda kel: kel-273.15\n",
    "    kel_to_far = lambda kel: ((kel-273.15)*9/5) + 32\n",
    "    \n",
    "    if medida_origen==\"cel\" and medida_destino==\"far\":\n",
    "        return cel_to_far(valor)\n",
    "    if medida_origen==\"cel\" and medida_destino==\"kel\":\n",
    "        return cel_to_kel(valor)\n",
    "    if medida_origen==\"far\" and medida_destino==\"cel\":\n",
    "        return far_to_cel(valor)\n",
    "    if medida_origen==\"far\" and medida_destino==\"kel\":\n",
    "        return far_to_kel(valor)\n",
    "    if medida_origen==\"kel\" and medida_destino==\"cel\":\n",
    "        return kel_to_cel(valor)\n",
    "    if medida_origen==\"kel\" and medida_destino==\"far\":\n",
    "        return kel_to_far(valor)\n",
    "    \n",
    "convertidor_temp(47, \"far\", \"cel\")       "
   ]
  },
  {
   "attachments": {},
   "cell_type": "markdown",
   "metadata": {},
   "source": [
    "5) Iterando una lista con los tres valores posibles de temperatura que recibe la función del punto 5, hacer un print para cada combinación de los mismos:"
   ]
  },
  {
   "cell_type": "code",
   "execution_count": 6,
   "metadata": {},
   "outputs": [
    {
     "name": "stdout",
     "output_type": "stream",
     "text": [
      "El valor de temp en Celsius es: 100, en kelvin es: 373.15 y en Farrenheit es: 212.0\n"
     ]
    }
   ],
   "source": [
    "temp=100\n",
    "\n",
    "print(f\"El valor de temp en Celsius es: {temp}, en kelvin es: {convertidor_temp(temp,'cel','kel')} y en Farrenheit es: {convertidor_temp(temp,'cel','far')}\")"
   ]
  },
  {
   "attachments": {},
   "cell_type": "markdown",
   "metadata": {},
   "source": [
    "6) Armar una función que devuelva el factorial de un número. Tener en cuenta que el usuario puede equivocarse y enviar de parámetro un número no entero o negativo"
   ]
  },
  {
   "cell_type": "code",
   "execution_count": 7,
   "metadata": {},
   "outputs": [
    {
     "data": {
      "text/plain": [
       "1"
      ]
     },
     "execution_count": 7,
     "metadata": {},
     "output_type": "execute_result"
    }
   ],
   "source": [
    "def factorial(numero):\n",
    "    if type(numero)==float or numero<0:\n",
    "        return print(\"el numero ingresado debe entero y positivo\")\n",
    "    elif numero==0:\n",
    "        return 1\n",
    "    else:\n",
    "        numero = numero * factorial(numero - 1)\n",
    "        return numero\n",
    "    \n",
    "\n",
    "factorial(1)"
   ]
  }
 ],
 "metadata": {
  "interpreter": {
   "hash": "c85384e4cb51c8b72350f3a8712cc8351fdc3955e32a27f9b60c6242ab125f01"
  },
  "kernelspec": {
   "display_name": "Python 3 (ipykernel)",
   "language": "python",
   "name": "python3"
  },
  "language_info": {
   "codemirror_mode": {
    "name": "ipython",
    "version": 3
   },
   "file_extension": ".py",
   "mimetype": "text/x-python",
   "name": "python",
   "nbconvert_exporter": "python",
   "pygments_lexer": "ipython3",
   "version": "3.11.5"
  }
 },
 "nbformat": 4,
 "nbformat_minor": 4
}
