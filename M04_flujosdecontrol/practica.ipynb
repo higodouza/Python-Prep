{
 "cells": [
  {
   "cell_type": "code",
   "execution_count": 10,
   "metadata": {},
   "outputs": [
    {
     "name": "stdout",
     "output_type": "stream",
     "text": [
      "numero es: 2\n",
      "numero es: 3\n",
      "numero es: no hubo\n",
      "numero es: 5\n",
      "numero es: 6\n",
      "numero es: 1\n",
      "numero es: 2\n",
      "numero es: 3\n",
      "numero es: 4\n",
      "numero es: 5\n"
     ]
    }
   ],
   "source": [
    "# se usan cuando se la cantidad de veces que debe hacerce el ciclo\n",
    "for i in range(1,6):\n",
    "    suma=i+1\n",
    "    if i==3:\n",
    "        print(f\"numero es: no hubo\")\n",
    "        continue\n",
    "    print(f\"numero es: {suma}\")\n",
    "\n",
    "\n",
    "# se usan cuando NO SE la cantidad de veces que debe hacerce el ciclo\n",
    "num=1\n",
    "while num<6:\n",
    "    print(f\"numero es: {num}\")\n",
    "    num+=1\n",
    "\n"
   ]
  }
 ],
 "metadata": {
  "kernelspec": {
   "display_name": "Python 3",
   "language": "python",
   "name": "python3"
  },
  "language_info": {
   "codemirror_mode": {
    "name": "ipython",
    "version": 3
   },
   "file_extension": ".py",
   "mimetype": "text/x-python",
   "name": "python",
   "nbconvert_exporter": "python",
   "pygments_lexer": "ipython3",
   "version": "3.11.5"
  },
  "orig_nbformat": 4
 },
 "nbformat": 4,
 "nbformat_minor": 2
}
