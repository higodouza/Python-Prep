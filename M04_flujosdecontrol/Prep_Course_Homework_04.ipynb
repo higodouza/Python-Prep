{
 "cells": [
  {
   "attachments": {},
   "cell_type": "markdown",
   "metadata": {},
   "source": [
    "## Flujos de Control"
   ]
  },
  {
   "attachments": {},
   "cell_type": "markdown",
   "metadata": {},
   "source": [
    "1) Crear una variable que contenga un elemento del conjunto de números enteros y luego imprimir por pantalla si es mayor o menor a cero"
   ]
  },
  {
   "cell_type": "code",
   "execution_count": null,
   "metadata": {},
   "outputs": [
    {
     "name": "stdout",
     "output_type": "stream",
     "text": [
      "el numero es menor a cero\n"
     ]
    }
   ],
   "source": [
    "num = -1\n",
    "if num >0:\n",
    "    print(\"el numero es mayor a cero\")\n",
    "else:\n",
    "    print(\"el numero es menor a cero\")\n"
   ]
  },
  {
   "attachments": {},
   "cell_type": "markdown",
   "metadata": {},
   "source": [
    "2) Crear dos variables y un condicional que informe si son del mismo tipo de dato"
   ]
  },
  {
   "cell_type": "code",
   "execution_count": null,
   "metadata": {},
   "outputs": [
    {
     "name": "stdout",
     "output_type": "stream",
     "text": [
      "datos diferentes\n"
     ]
    }
   ],
   "source": [
    "dato_num=2\n",
    "dato_let=\"2\"\n",
    "if type(dato_num) == type(dato_let):\n",
    "    print(\"datos iguales\")\n",
    "else:\n",
    "    print(\"datos diferentes\")\n"
   ]
  },
  {
   "attachments": {},
   "cell_type": "markdown",
   "metadata": {},
   "source": [
    "3) Para los valores enteros del 1 al 20, imprimir por pantalla si es par o impar"
   ]
  },
  {
   "cell_type": "code",
   "execution_count": null,
   "metadata": {},
   "outputs": [
    {
     "name": "stdout",
     "output_type": "stream",
     "text": [
      "valor: 1 es impar \n",
      "valor: 2 es par \n",
      "valor: 3 es impar\n",
      "valor: 4 es par \n",
      "valor: 5 es impar\n",
      "valor: 6 es par \n",
      "valor: 7 es impar\n",
      "valor: 8 es par \n",
      "valor: 9 es impar\n",
      "valor: 10 es par \n",
      "valor: 11 es impar\n",
      "valor: 12 es par \n",
      "valor: 13 es impar\n",
      "valor: 14 es par \n",
      "valor: 15 es impar\n",
      "valor: 16 es par \n",
      "valor: 17 es impar\n",
      "valor: 18 es par \n",
      "valor: 19 es impar\n"
     ]
    }
   ],
   "source": [
    "print (f\"valor: 1 es impar \")\n",
    "for i in range(2,20):\n",
    "    if i%2==0:\n",
    "        print(f\"valor: {i} es par \")\n",
    "    else:\n",
    "        print(f\"valor: {i} es impar\")"
   ]
  },
  {
   "attachments": {},
   "cell_type": "markdown",
   "metadata": {},
   "source": [
    "4) En un ciclo for mostrar para los valores entre 0 y 5 el resultado de elevarlo a la potencia igual a 3"
   ]
  },
  {
   "cell_type": "code",
   "execution_count": null,
   "metadata": {},
   "outputs": [
    {
     "name": "stdout",
     "output_type": "stream",
     "text": [
      "El valor numero 0 es: 0\n",
      "El valor numero 1 es: 1\n",
      "El valor numero 2 es: 8\n",
      "El valor numero 3 es: 27\n",
      "El valor numero 4 es: 64\n"
     ]
    }
   ],
   "source": [
    "for i in range(0,5):\n",
    "    print(f\"El valor numero {i} es: {i**3}\")"
   ]
  },
  {
   "attachments": {},
   "cell_type": "markdown",
   "metadata": {},
   "source": [
    "5) Crear una variable que contenga un número entero y realizar un ciclo for la misma cantidad de ciclos"
   ]
  },
  {
   "cell_type": "code",
   "execution_count": null,
   "metadata": {},
   "outputs": [
    {
     "name": "stdout",
     "output_type": "stream",
     "text": [
      "Esto es la vuelta 0 del ciclo\n",
      "Esto es la vuelta 1 del ciclo\n",
      "Esto es la vuelta 2 del ciclo\n",
      "Esto es la vuelta 3 del ciclo\n",
      "Esto es la vuelta 4 del ciclo\n"
     ]
    }
   ],
   "source": [
    "num=5\n",
    "\n",
    "for i in range(0,num):\n",
    "    print(f\"Esto es la vuelta {i} del ciclo\")"
   ]
  },
  {
   "attachments": {},
   "cell_type": "markdown",
   "metadata": {},
   "source": [
    "6) Utilizar un ciclo while para realizar el factorial de un número guardado en una variable, sólo si la variable contiene un número entero mayor a 0"
   ]
  },
  {
   "cell_type": "code",
   "execution_count": null,
   "metadata": {},
   "outputs": [
    {
     "name": "stdout",
     "output_type": "stream",
     "text": [
      "imprimiendo 10! = 10*9!\n",
      "imprimiendo 9! = 9*8!\n",
      "imprimiendo 8! = 8*7!\n",
      "imprimiendo 7! = 7*6!\n",
      "imprimiendo 6! = 6*5!\n",
      "imprimiendo 5! = 5*4!\n",
      "imprimiendo 4! = 4*3!\n",
      "imprimiendo 3! = 3*2!\n",
      "imprimiendo 2! = 2*1!\n",
      "resultado final: 3628800\n"
     ]
    }
   ],
   "source": [
    "num = 10\n",
    "factorial =num\n",
    "\n",
    "while num>0 and num-1!=0:\n",
    "    factorial= factorial*(num-1)\n",
    "    print(f\"imprimiendo {num}! = {num}*{num-1}!\")\n",
    "    num-=1\n",
    "print(f\"resultado final: {factorial}\")\n"
   ]
  },
  {
   "attachments": {},
   "cell_type": "markdown",
   "metadata": {},
   "source": [
    "7) Crear un ciclo for dentro de un ciclo while"
   ]
  },
  {
   "cell_type": "code",
   "execution_count": null,
   "metadata": {},
   "outputs": [
    {
     "name": "stdout",
     "output_type": "stream",
     "text": [
      "1...\n",
      "2...\n",
      "3...\n",
      "oleee\n",
      "1...\n",
      "2...\n",
      "3...\n",
      "oleee\n",
      "1...\n",
      "2...\n",
      "3...\n",
      "oleee\n",
      "1...\n",
      "2...\n",
      "3...\n",
      "oleee\n"
     ]
    }
   ],
   "source": [
    "numero = 5\n",
    "while numero>1:\n",
    "    for i in range(1,4):\n",
    "        print(f\"{i}...\")\n",
    "    print(\"oleee\")\n",
    "    numero-=1"
   ]
  },
  {
   "attachments": {},
   "cell_type": "markdown",
   "metadata": {},
   "source": [
    "8) Crear un ciclo while dentro de un ciclo for"
   ]
  },
  {
   "cell_type": "code",
   "execution_count": null,
   "metadata": {},
   "outputs": [
    {
     "name": "stdout",
     "output_type": "stream",
     "text": [
      "te quedan 3segs\n",
      "te quedan 2segs\n",
      "te quedan 1segs\n",
      "te quedan 0segs\n",
      "esa fue tu 1ra ronda\n",
      "te quedan 3segs\n",
      "te quedan 2segs\n",
      "te quedan 1segs\n",
      "te quedan 0segs\n",
      "esa fue tu 2ra ronda\n",
      "te quedan 3segs\n",
      "te quedan 2segs\n",
      "te quedan 1segs\n",
      "te quedan 0segs\n",
      "esa fue tu 3ra ronda\n"
     ]
    }
   ],
   "source": [
    "for i in range(1,4):\n",
    "    tiempo=3\n",
    "    while tiempo>=0:\n",
    "        print(f\"te quedan {tiempo}segs\") \n",
    "        tiempo-=1\n",
    "    print(f\"esa fue tu {i}ra ronda\")"
   ]
  },
  {
   "attachments": {},
   "cell_type": "markdown",
   "metadata": {},
   "source": [
    "9) Imprimir los números primos existentes entre 0 y 30"
   ]
  },
  {
   "cell_type": "code",
   "execution_count": 94,
   "metadata": {},
   "outputs": [
    {
     "name": "stdout",
     "output_type": "stream",
     "text": [
      "29 es primo\n",
      "23 es primo\n",
      "19 es primo\n",
      "17 es primo\n",
      "13 es primo\n",
      "11 es primo\n",
      "7 es primo\n",
      "5 es primo\n",
      "3 es primo\n",
      "2 es primo\n",
      "1 es primo\n"
     ]
    }
   ],
   "source": [
    "numero = 30\n",
    "primo=True\n",
    "while numero>0:\n",
    "    for i in range(2,numero):\n",
    "        if numero%i==0:\n",
    "            primo=False\n",
    "    if primo:\n",
    "        print(f\"{numero} es primo\")\n",
    "    else:\n",
    "        primo=True\n",
    "    numero-=1\n",
    "\n",
    "\n"
   ]
  },
  {
   "attachments": {},
   "cell_type": "markdown",
   "metadata": {},
   "source": [
    "10) ¿Se puede mejorar el proceso del punto 9? Utilizar las sentencias break y/ó continue para tal fin"
   ]
  },
  {
   "cell_type": "code",
   "execution_count": null,
   "metadata": {},
   "outputs": [],
   "source": [
    "# no creo porque hay que revisar todos los numeros intermedios"
   ]
  },
  {
   "attachments": {},
   "cell_type": "markdown",
   "metadata": {},
   "source": [
    "11) En los puntos 9 y 10, se diseño un código que encuentra números primos y además se lo optimizó. ¿Es posible saber en qué medida se optimizó?"
   ]
  },
  {
   "cell_type": "code",
   "execution_count": null,
   "metadata": {},
   "outputs": [],
   "source": [
    "#no mucho "
   ]
  },
  {
   "attachments": {},
   "cell_type": "markdown",
   "metadata": {},
   "source": [
    "12) Aplicando continue, armar un ciclo while que solo imprima los valores divisibles por 12, dentro del rango de números de 100 a 300"
   ]
  },
  {
   "cell_type": "code",
   "execution_count": 71,
   "metadata": {},
   "outputs": [
    {
     "name": "stdout",
     "output_type": "stream",
     "text": [
      "Este numero: 108 es divisible exactamente por 12\n",
      "Este numero: 120 es divisible exactamente por 12\n",
      "Este numero: 132 es divisible exactamente por 12\n",
      "Este numero: 144 es divisible exactamente por 12\n",
      "Este numero: 156 es divisible exactamente por 12\n",
      "Este numero: 168 es divisible exactamente por 12\n",
      "Este numero: 180 es divisible exactamente por 12\n",
      "Este numero: 192 es divisible exactamente por 12\n",
      "Este numero: 204 es divisible exactamente por 12\n",
      "Este numero: 216 es divisible exactamente por 12\n",
      "Este numero: 228 es divisible exactamente por 12\n",
      "Este numero: 240 es divisible exactamente por 12\n",
      "Este numero: 252 es divisible exactamente por 12\n",
      "Este numero: 264 es divisible exactamente por 12\n",
      "Este numero: 276 es divisible exactamente por 12\n",
      "Este numero: 288 es divisible exactamente por 12\n"
     ]
    }
   ],
   "source": [
    "numero=range(100,300)\n",
    "i=100\n",
    "while i in numero:\n",
    "    if i%12==0:\n",
    "        print(f\"Este numero: {i} es divisible exactamente por 12\")\n",
    "    i+=1"
   ]
  },
  {
   "attachments": {},
   "cell_type": "markdown",
   "metadata": {},
   "source": [
    "13) Utilizar la función **input()** que permite hacer ingresos por teclado, para encontrar números primos y dar la opción al usario de buscar el siguiente"
   ]
  },
  {
   "cell_type": "code",
   "execution_count": 74,
   "metadata": {},
   "outputs": [
    {
     "name": "stdout",
     "output_type": "stream",
     "text": [
      "el 1 es primo de 89\n",
      "el 89 es primo de 89\n"
     ]
    }
   ],
   "source": [
    "\n",
    "numero = int(input(\"ingrese un numero a calcular sus primos\"))\n",
    "\n",
    "for i in range(1,numero+1):\n",
    "    if numero%i==0:\n",
    "        print(f\"el {i} es primo de {numero}\")\n"
   ]
  },
  {
   "attachments": {},
   "cell_type": "markdown",
   "metadata": {},
   "source": [
    "14) Crear un ciclo while que encuentre dentro del rango de 100 a 300 el primer número divisible por 3 y además múltiplo de 6"
   ]
  },
  {
   "cell_type": "code",
   "execution_count": 80,
   "metadata": {},
   "outputs": [
    {
     "name": "stdout",
     "output_type": "stream",
     "text": [
      "Este es el primero numero de ese tipo: 102 \n"
     ]
    }
   ],
   "source": [
    "numero=range(100,300)\n",
    "i=100\n",
    "while i in numero:\n",
    "    if i%3==0:\n",
    "        if i%6==0:\n",
    "            print(f\"Este es el primero numero de ese tipo: {i} \")\n",
    "            break\n",
    "    i+=1"
   ]
  }
 ],
 "metadata": {
  "interpreter": {
   "hash": "c85384e4cb51c8b72350f3a8712cc8351fdc3955e32a27f9b60c6242ab125f01"
  },
  "kernelspec": {
   "display_name": "Python 3 (ipykernel)",
   "language": "python",
   "name": "python3"
  },
  "language_info": {
   "codemirror_mode": {
    "name": "ipython",
    "version": 3
   },
   "file_extension": ".py",
   "mimetype": "text/x-python",
   "name": "python",
   "nbconvert_exporter": "python",
   "pygments_lexer": "ipython3",
   "version": "3.10.6"
  }
 },
 "nbformat": 4,
 "nbformat_minor": 4
}
